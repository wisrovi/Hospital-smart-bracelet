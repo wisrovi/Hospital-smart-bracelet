{
  "nbformat": 4,
  "nbformat_minor": 0,
  "metadata": {
    "colab": {
      "name": "Untitled1.ipynb",
      "provenance": [],
      "collapsed_sections": [],
      "authorship_tag": "ABX9TyPDRI4BwHCQyTEUEmIBnkJu",
      "include_colab_link": true
    },
    "kernelspec": {
      "name": "python3",
      "display_name": "Python 3"
    }
  },
  "cells": [
    {
      "cell_type": "markdown",
      "metadata": {
        "id": "view-in-github",
        "colab_type": "text"
      },
      "source": [
        "<a href=\"https://colab.research.google.com/github/wisrovi/Hospital-smart-bracelet/blob/master/RedNeuronalHallarCoordenada.ipynb\" target=\"_parent\"><img src=\"https://colab.research.google.com/assets/colab-badge.svg\" alt=\"Open In Colab\"/></a>"
      ]
    },
    {
      "cell_type": "code",
      "metadata": {
        "id": "vwOeX9hlHJg5",
        "colab_type": "code",
        "colab": {}
      },
      "source": [
        "from math import sqrt\n",
        "def CalcularPuntos(punto_clave1, punto_clave2):  \n",
        "  x_p1 = punto_clave1[0][0]\n",
        "  y_p1 = punto_clave1[0][1]\n",
        "  l_p1 = punto_clave1[1]\n",
        "\n",
        "  x_p2 = punto_clave2[0][0]\n",
        "  y_p2 = punto_clave2[0][1]\n",
        "  l_p2 = punto_clave2[1]\n",
        "\n",
        "\n",
        "  ##################################################################################################################\n",
        "  constanteX_ecuacion1 = -(y_p1/2 - y_p2/2)\n",
        "  constanteY_ecuacion1 = x_p1/2 - x_p2/2\n",
        "  raizDenominador = sqrt(  pow((x_p1-x_p2),2)  +  pow((y_p1-y_p2),2) )\n",
        "  denominador1 = -l_p1 + l_p2 + raizDenominador\n",
        "  denominador2 = l_p1 - l_p2 + raizDenominador\n",
        "  denominador3 = l_p1 + l_p2 - raizDenominador\n",
        "  denominador4 = l_p1 + l_p2 + raizDenominador\n",
        "  denominador = denominador1 * denominador2 * denominador3 * denominador4\n",
        "  denominador = abs(denominador)\n",
        "  denominador = sqrt(denominador)\n",
        "  constanteNumerica_ecuacion1 = (1/4) * denominador  + ((x_p1*y_p2)/2) - ((x_p2*y_p1)/2) \n",
        "  # print(\"Ecuacion 1 (Manual)\")\n",
        "  # La ecuacion 1 esta definida de la siguiente manera\n",
        "  # ecuacion1 = x*(constanteX_ecuacion1) + (y)*(constanteY_ecuacion1) - constanteNumerica_ecuacion1\n",
        "\n",
        "\n",
        "\n",
        "\n",
        "  ##################################################################################################################\n",
        "  # print(\"Ecuacion 2 (Manual)\")\n",
        "  constanteX_ecuacion2 =  2*x_p1 -2*x_p2\n",
        "  constanteY_ecuacion2 = 2*y_p1 -2*y_p2\n",
        "  constanteNumerica_ecuacion2 = pow(l_p1, 2) - pow(l_p2, 2) - pow(x_p1, 2) + pow(x_p2, 2) - pow(y_p1, 2) + pow(y_p2, 2) \n",
        "\n",
        "  # La ecuacion 2 esta definida de la siguiente manera\n",
        "  # ecuacion2 = x*(constanteX_ecuacion2) + y*(constanteY_ecuacion2)  + constanteNumerica_ecuacion2\n",
        "\n",
        "\n",
        "\n",
        "  ##################################################################################################################\n",
        "  rtaY = -(constanteX_ecuacion1*constanteNumerica_ecuacion2 + constanteX_ecuacion2*constanteNumerica_ecuacion1) / (constanteX_ecuacion1*constanteY_ecuacion2 - constanteX_ecuacion2*constanteY_ecuacion1)\n",
        "  rtaY = round(rtaY, 1)\n",
        "\n",
        "  rtaX = -(constanteNumerica_ecuacion1*constanteY_ecuacion2 + constanteNumerica_ecuacion2*constanteY_ecuacion1)/(constanteX_ecuacion2*constanteY_ecuacion1-constanteX_ecuacion1*constanteY_ecuacion2) \n",
        "  rtaX = round(rtaX, 1)\n",
        "  return rtaX, rtaY"
      ],
      "execution_count": 1,
      "outputs": []
    },
    {
      "cell_type": "code",
      "metadata": {
        "id": "CrEzJAl2x6CF",
        "colab_type": "code",
        "colab": {}
      },
      "source": [
        "class Persona:\n",
        "    puntoCercano_1 = None\n",
        "    distanciaPunto_1 = 0\n",
        "    puntoCercano_2 = None\n",
        "    distanciaPunto_2 = 0\n",
        "\n",
        "    def __init__(self, punto1, dist1, punto2, dist2):\n",
        "        self.puntoCercano_1 = punto1\n",
        "        self.distanciaPunto_1 = dist1\n",
        "        self.puntoCercano_2 = punto2\n",
        "        self.distanciaPunto_2 = dist2\n",
        "\n",
        "    def getPunto1(self):\n",
        "        return self.puntoCercano_1, self.distanciaPunto_1\n",
        "\n",
        "    def getPunto2(self):\n",
        "        return self.puntoCercano_2, self.distanciaPunto_2\n",
        "        \n",
        "class BalizaInstalada:\n",
        "    nombre = None\n",
        "    ubicacion = None\n",
        "    distancia = None\n",
        "\n",
        "    def __init__(self, ubi, nombre, dist):\n",
        "        self.ubicacion = ubi\n",
        "        self.nombre = nombre\n",
        "        self.distancia = dist\n",
        "\n",
        "\n",
        "class Ubicacion:\n",
        "    x = int()\n",
        "    y = int()\n",
        "\n",
        "    def __init__(self, x, y):\n",
        "        self.x = x\n",
        "        self.y = y\n",
        "\n",
        "\n",
        "def HallarMejorSolucion(Distancia: dict, puntos: dict, constantePresicion=1.5):\n",
        "    \"\"\"\n",
        "    :param Distancia: diccionario de distancias de las balizas, este contiene la longitud de los vectores de cada baliza hasta el punto a hallar\n",
        "    :param puntos: diccionario de ubicaciones e cada baliza\n",
        "    :param constantePresicion: valor absoluto de variacion de error, esto es para no descartar todas las respuestas\n",
        "    :return: Entrega la ubicación lo mas precisa posible de acuerdo a los puntos entregados para analizar\n",
        "    \"\"\"\n",
        "    valores = list()\n",
        "    for i in Distancia:\n",
        "        valores.append(Distancia[i])\n",
        "    valores = sorted(valores)\n",
        "\n",
        "    itemEvaluar = list()\n",
        "    for i in valores:\n",
        "        if len(itemEvaluar) == 3:\n",
        "            break\n",
        "        else:\n",
        "            if i > 0:\n",
        "                itemEvaluar.append(i)\n",
        "    valores = itemEvaluar\n",
        "\n",
        "    itemsUsar = []\n",
        "    for i in Distancia:\n",
        "        if len(itemsUsar) == 3:\n",
        "            break\n",
        "\n",
        "        if Distancia[i] >= 0:\n",
        "            if Distancia[i] == valores[0]:\n",
        "                itemsUsar.append(i)\n",
        "            elif Distancia[i] == valores[1]:\n",
        "                itemsUsar.append(i)\n",
        "\n",
        "            elif Distancia[i] == valores[2]:\n",
        "                itemsUsar.append(i)\n",
        "    if len(itemsUsar) == 3:\n",
        "\n",
        "        # print(\"Balizas usar:\", itemsUsar)\n",
        "\n",
        "        respuestas = list()\n",
        "\n",
        "        person_option_one = Persona(\n",
        "            puntos[str(itemsUsar[0])],\n",
        "            Distancia[itemsUsar[0]],\n",
        "            puntos[str(itemsUsar[1])],\n",
        "            Distancia[itemsUsar[1]]\n",
        "        )\n",
        "        x_one, y_one = CalcularPuntos(person_option_one.getPunto1(), person_option_one.getPunto2())\n",
        "        respuestas.append((x_one, y_one))\n",
        "\n",
        "        person_option_two = Persona(\n",
        "            puntos[str(itemsUsar[1])],\n",
        "            Distancia[itemsUsar[1]],\n",
        "            puntos[str(itemsUsar[0])],\n",
        "            Distancia[itemsUsar[0]]\n",
        "        )\n",
        "        x_two, y_two = CalcularPuntos(person_option_two.getPunto1(), person_option_two.getPunto2())\n",
        "        respuestas.append((x_two, y_two))\n",
        "\n",
        "        person_option_three = Persona(\n",
        "            puntos[str(itemsUsar[0])],\n",
        "            Distancia[itemsUsar[0]],\n",
        "            puntos[str(itemsUsar[2])],\n",
        "            Distancia[itemsUsar[2]]\n",
        "        )\n",
        "        x_three, y_three = CalcularPuntos(person_option_three.getPunto1(), person_option_three.getPunto2())\n",
        "        respuestas.append((x_three, y_three))\n",
        "\n",
        "        person_option_for = Persona(\n",
        "            puntos[str(itemsUsar[2])],\n",
        "            Distancia[itemsUsar[2]],\n",
        "            puntos[str(itemsUsar[0])],\n",
        "            Distancia[itemsUsar[0]]\n",
        "        )\n",
        "        x_for, y_for = CalcularPuntos(person_option_for.getPunto1(), person_option_for.getPunto2())\n",
        "        respuestas.append((x_for, y_for))\n",
        "\n",
        "        filtro = []\n",
        "        for i in respuestas:\n",
        "            if i[0] is not None:\n",
        "                filtro.append(i)\n",
        "        respuestas = filtro\n",
        "\n",
        "        def clave_ordenacion(tupla):\n",
        "            return tupla[0], -tupla[1]\n",
        "\n",
        "        respuestas = sorted(respuestas, key=clave_ordenacion)\n",
        "\n",
        "        for i in respuestas:\n",
        "            # print(i)\n",
        "            pass\n",
        "\n",
        "        # print(\"***************\")\n",
        "        CartesianoFinal = None\n",
        "        for i in range(len(respuestas) - 1):\n",
        "            x1, y1 = respuestas[i]\n",
        "            x2, y2 = respuestas[i + 1]\n",
        "            evaluarX = x1 + constantePresicion\n",
        "            evaluarY = y1 + constantePresicion\n",
        "            if evaluarX >= x2 and evaluarY >= y2:\n",
        "                promedioX = round(x1 + round((x2 - x1) / 2, 2), 2)\n",
        "                promedioY = round(y1 + round((y2 - y1) / 2, 2), 2)\n",
        "                CartesianoFinal = (promedioX, promedioY)\n",
        "                break\n",
        "        if CartesianoFinal is None:\n",
        "            for i in respuestas:\n",
        "                print(i)\n",
        "            print(\"Con ese valor de constante no es posible hallar una ubicación\")\n",
        "        else:\n",
        "            pass\n",
        "            # print(\"El valor estimado de ubicación (x,y) es\", CartesianoFinal, \"+-\", constantePresicion)\n",
        "        return CartesianoFinal, itemsUsar\n",
        "\n",
        "    else:\n",
        "        print(\"No hay suficientes puntos para hallar la posición\")\n",
        "\n",
        "\n",
        "def CalcularPosicion(listadoBalizas: list, precision=10):\n",
        "    \"\"\"\n",
        "    :param listadoBalizas: listado de las balizas instaladas, estas se reorganizaran para usar las mas cercanas al punto a buscar\n",
        "    :param precision: Las ecuaciones dan un valor de presición en la busqueda de (x,Y) y este valor puede ser editado para obtener una mejor respuesta\n",
        "    :return: Entrega la ubicación lo mas precisa posible de acuerdo a los puntos entregados para analizar\n",
        "    \"\"\"\n",
        "    Balizas = dict()\n",
        "    Distancias = dict()\n",
        "    for i in range(len(listadoBalizas)):\n",
        "        baliza = listadoBalizas[i]\n",
        "        Balizas[str(i)] = (baliza.ubicacion.x, baliza.ubicacion.y)\n",
        "        Distancias[i] = baliza.distancia\n",
        "    return HallarMejorSolucion(Distancias, Balizas, precision)"
      ],
      "execution_count": 2,
      "outputs": []
    },
    {
      "cell_type": "code",
      "metadata": {
        "id": "3_FftYvwySxO",
        "colab_type": "code",
        "colab": {}
      },
      "source": [
        "def CalcularPosicion(listadoBalizas: list, precision=10):\n",
        "    \"\"\"\n",
        "    :param listadoBalizas: listado de las balizas instaladas, estas se reorganizaran para usar las mas cercanas al punto a buscar\n",
        "    :param precision: Las ecuaciones dan un valor de presición en la busqueda de (x,Y) y este valor puede ser editado para obtener una mejor respuesta\n",
        "    :return: Entrega la ubicación lo mas precisa posible de acuerdo a los puntos entregados para analizar\n",
        "    \"\"\"\n",
        "    Balizas = dict()\n",
        "    Distancias = dict()\n",
        "    for i in range(len(listadoBalizas)):\n",
        "        baliza = listadoBalizas[i]\n",
        "        Balizas[str(i)] = (baliza.ubicacion.x, baliza.ubicacion.y)\n",
        "        Distancias[i] = baliza.distancia\n",
        "    return HallarMejorSolucion(Distancias, Balizas, precision)"
      ],
      "execution_count": 3,
      "outputs": []
    },
    {
      "cell_type": "markdown",
      "metadata": {
        "id": "SJ3L5-6dHVRf",
        "colab_type": "text"
      },
      "source": [
        "EXAMPLE"
      ]
    },
    {
      "cell_type": "code",
      "metadata": {
        "id": "LC45iX6fHUnr",
        "colab_type": "code",
        "colab": {
          "base_uri": "https://localhost:8080/",
          "height": 34
        },
        "outputId": "3a16040c-84f5-4b77-8a97-c939c6832577"
      },
      "source": [
        "puntoA = (2, 12)\n",
        "distancia_al_puntoA = 0.4\n",
        "\n",
        "puntoB = (10, 10)\n",
        "distancia_al_puntoB = 1.12\n",
        "\n",
        "puntoC = (2, 2)\n",
        "distancia_al_puntoC = 3.55\n",
        "\n",
        "listadoBalizas = list()\n",
        "listadoBalizas.append(BalizaInstalada(nombre=\"\",ubi=Ubicacion(x=puntoA[0], y=puntoA[1]), dist=distancia_al_puntoA))\n",
        "listadoBalizas.append(BalizaInstalada(nombre=\"\",ubi=Ubicacion(x=puntoB[0], y=puntoB[1]), dist=distancia_al_puntoB))\n",
        "listadoBalizas.append(BalizaInstalada(nombre=\"\",ubi=Ubicacion(x=puntoC[0], y=puntoC[1]), dist=distancia_al_puntoC))\n",
        "\n",
        "\n",
        "\n",
        "CartesianoFinal, idsBalizasUsadas = CalcularPosicion(listadoBalizas)\n",
        "print(CartesianoFinal, idsBalizasUsadas )"
      ],
      "execution_count": 4,
      "outputs": [
        {
          "output_type": "stream",
          "text": [
            "(1.3, 7.35) [0, 1, 2]\n"
          ],
          "name": "stdout"
        }
      ]
    },
    {
      "cell_type": "markdown",
      "metadata": {
        "id": "PjyE3PeoHlzY",
        "colab_type": "text"
      },
      "source": [
        "GENERAR DATOS PARA HACER VARIAS PRUEBAS"
      ]
    },
    {
      "cell_type": "code",
      "metadata": {
        "id": "0sDZHdvwHo6Y",
        "colab_type": "code",
        "colab": {}
      },
      "source": [
        "def CalcularDistanciaDosPuntos(x1,x2,y1,y2):\n",
        "  rta = sqrt((x1 - x2) ** 2 + (y1 - y2) ** 2)\n",
        "  rta = abs(rta)\n",
        "  rta = round(rta, 2)\n",
        "  return rta\n",
        "\n",
        "import random\n",
        "def numeroRandom(max=100):\n",
        "  return random.randrange(max)"
      ],
      "execution_count": 1,
      "outputs": []
    },
    {
      "cell_type": "code",
      "metadata": {
        "id": "mnA6undALm_2",
        "colab_type": "code",
        "colab": {}
      },
      "source": [
        "class puntoCartesiano():\n",
        "  def __init__(self, x, y):\n",
        "    self.x = x\n",
        "    self.y = y\n",
        "\n",
        "class PuntoVector():\n",
        "  def __init__(self, punto, distanciaAlPunto):\n",
        "    self.coordenadas = punto\n",
        "    self.vector = distanciaAlPunto\n",
        "\n",
        "class DatosTriliteracion():\n",
        "  def __init__(self, dato1, dato2, dato3, respuesta):\n",
        "    self.dato1 = dato1\n",
        "    self.dato2 = dato2\n",
        "    self.dato3 = dato3\n",
        "    self.respuesta = respuesta"
      ],
      "execution_count": 2,
      "outputs": []
    },
    {
      "cell_type": "markdown",
      "metadata": {
        "id": "BkN8yBORwmte",
        "colab_type": "text"
      },
      "source": [
        "VAMOS A GENERAR DATOS EMULADOS"
      ]
    },
    {
      "cell_type": "code",
      "metadata": {
        "id": "ts7g7huHH-VJ",
        "colab_type": "code",
        "colab": {
          "base_uri": "https://localhost:8080/",
          "height": 346
        },
        "outputId": "3c2b83ec-0946-4c33-bd21-f76ff35a6ef9"
      },
      "source": [
        "listadoDatosPuntosCartesiano = list()\n",
        "\n",
        "from time import time\n",
        "start_time = time()\n",
        "for i in range(500000):\n",
        "  punto1 =   puntoCartesiano(x=numeroRandom(), y=numeroRandom()) \n",
        "  punto2 =   puntoCartesiano(x=numeroRandom(), y=numeroRandom()) \n",
        "  punto3 =   puntoCartesiano(x=numeroRandom(), y=numeroRandom()) \n",
        "  puntoHallar = puntoCartesiano(x=numeroRandom(), y=numeroRandom()) \n",
        "\n",
        "  distancia_al_punto1 = CalcularDistanciaDosPuntos(  punto1.x, puntoHallar.x, punto1.y, puntoHallar.y   )\n",
        "  distancia_al_punto2 = CalcularDistanciaDosPuntos(  punto2.x, puntoHallar.x, punto2.y, puntoHallar.y   )\n",
        "  distancia_al_punto3 = CalcularDistanciaDosPuntos(  punto3.x, puntoHallar.x, punto3.y, puntoHallar.y   )\n",
        "\n",
        "  datosPuntoCartesiano1 = PuntoVector(punto=punto1, distanciaAlPunto=distancia_al_punto1 )\n",
        "  datosPuntoCartesiano2 = PuntoVector(punto=punto2, distanciaAlPunto=distancia_al_punto2 )\n",
        "  datosPuntoCartesiano3 = PuntoVector(punto=punto3, distanciaAlPunto=distancia_al_punto3 )\n",
        "\n",
        "  datosFinales = DatosTriliteracion(dato1=datosPuntoCartesiano1, dato2=datosPuntoCartesiano2, dato3=datosPuntoCartesiano3, respuesta=puntoHallar)\n",
        "  listadoDatosPuntosCartesiano.append(datosFinales)\n",
        "\n",
        "elapsed_time = time() - start_time\n",
        "print(\"Elapsed time1: %0.10f seconds.\" % elapsed_time)"
      ],
      "execution_count": 3,
      "outputs": [
        {
          "output_type": "error",
          "ename": "NameError",
          "evalue": "ignored",
          "traceback": [
            "\u001b[0;31m---------------------------------------------------------------------------\u001b[0m",
            "\u001b[0;31mNameError\u001b[0m                                 Traceback (most recent call last)",
            "\u001b[0;32m<ipython-input-3-fb2c86b0ee38>\u001b[0m in \u001b[0;36m<module>\u001b[0;34m()\u001b[0m\n\u001b[1;32m      9\u001b[0m   \u001b[0mpuntoHallar\u001b[0m \u001b[0;34m=\u001b[0m \u001b[0mpuntoCartesiano\u001b[0m\u001b[0;34m(\u001b[0m\u001b[0mx\u001b[0m\u001b[0;34m=\u001b[0m\u001b[0mnumeroRandom\u001b[0m\u001b[0;34m(\u001b[0m\u001b[0;34m)\u001b[0m\u001b[0;34m,\u001b[0m \u001b[0my\u001b[0m\u001b[0;34m=\u001b[0m\u001b[0mnumeroRandom\u001b[0m\u001b[0;34m(\u001b[0m\u001b[0;34m)\u001b[0m\u001b[0;34m)\u001b[0m\u001b[0;34m\u001b[0m\u001b[0;34m\u001b[0m\u001b[0m\n\u001b[1;32m     10\u001b[0m \u001b[0;34m\u001b[0m\u001b[0m\n\u001b[0;32m---> 11\u001b[0;31m   \u001b[0mdistancia_al_punto1\u001b[0m \u001b[0;34m=\u001b[0m \u001b[0mCalcularDistanciaDosPuntos\u001b[0m\u001b[0;34m(\u001b[0m  \u001b[0mpunto1\u001b[0m\u001b[0;34m.\u001b[0m\u001b[0mx\u001b[0m\u001b[0;34m,\u001b[0m \u001b[0mpuntoHallar\u001b[0m\u001b[0;34m.\u001b[0m\u001b[0mx\u001b[0m\u001b[0;34m,\u001b[0m \u001b[0mpunto1\u001b[0m\u001b[0;34m.\u001b[0m\u001b[0my\u001b[0m\u001b[0;34m,\u001b[0m \u001b[0mpuntoHallar\u001b[0m\u001b[0;34m.\u001b[0m\u001b[0my\u001b[0m   \u001b[0;34m)\u001b[0m\u001b[0;34m\u001b[0m\u001b[0;34m\u001b[0m\u001b[0m\n\u001b[0m\u001b[1;32m     12\u001b[0m   \u001b[0mdistancia_al_punto2\u001b[0m \u001b[0;34m=\u001b[0m \u001b[0mCalcularDistanciaDosPuntos\u001b[0m\u001b[0;34m(\u001b[0m  \u001b[0mpunto2\u001b[0m\u001b[0;34m.\u001b[0m\u001b[0mx\u001b[0m\u001b[0;34m,\u001b[0m \u001b[0mpuntoHallar\u001b[0m\u001b[0;34m.\u001b[0m\u001b[0mx\u001b[0m\u001b[0;34m,\u001b[0m \u001b[0mpunto2\u001b[0m\u001b[0;34m.\u001b[0m\u001b[0my\u001b[0m\u001b[0;34m,\u001b[0m \u001b[0mpuntoHallar\u001b[0m\u001b[0;34m.\u001b[0m\u001b[0my\u001b[0m   \u001b[0;34m)\u001b[0m\u001b[0;34m\u001b[0m\u001b[0;34m\u001b[0m\u001b[0m\n\u001b[1;32m     13\u001b[0m   \u001b[0mdistancia_al_punto3\u001b[0m \u001b[0;34m=\u001b[0m \u001b[0mCalcularDistanciaDosPuntos\u001b[0m\u001b[0;34m(\u001b[0m  \u001b[0mpunto3\u001b[0m\u001b[0;34m.\u001b[0m\u001b[0mx\u001b[0m\u001b[0;34m,\u001b[0m \u001b[0mpuntoHallar\u001b[0m\u001b[0;34m.\u001b[0m\u001b[0mx\u001b[0m\u001b[0;34m,\u001b[0m \u001b[0mpunto3\u001b[0m\u001b[0;34m.\u001b[0m\u001b[0my\u001b[0m\u001b[0;34m,\u001b[0m \u001b[0mpuntoHallar\u001b[0m\u001b[0;34m.\u001b[0m\u001b[0my\u001b[0m   \u001b[0;34m)\u001b[0m\u001b[0;34m\u001b[0m\u001b[0;34m\u001b[0m\u001b[0m\n",
            "\u001b[0;32m<ipython-input-1-ce8ae6785fa7>\u001b[0m in \u001b[0;36mCalcularDistanciaDosPuntos\u001b[0;34m(x1, x2, y1, y2)\u001b[0m\n\u001b[1;32m      1\u001b[0m \u001b[0;32mdef\u001b[0m \u001b[0mCalcularDistanciaDosPuntos\u001b[0m\u001b[0;34m(\u001b[0m\u001b[0mx1\u001b[0m\u001b[0;34m,\u001b[0m\u001b[0mx2\u001b[0m\u001b[0;34m,\u001b[0m\u001b[0my1\u001b[0m\u001b[0;34m,\u001b[0m\u001b[0my2\u001b[0m\u001b[0;34m)\u001b[0m\u001b[0;34m:\u001b[0m\u001b[0;34m\u001b[0m\u001b[0;34m\u001b[0m\u001b[0m\n\u001b[0;32m----> 2\u001b[0;31m   \u001b[0mrta\u001b[0m \u001b[0;34m=\u001b[0m \u001b[0msqrt\u001b[0m\u001b[0;34m(\u001b[0m\u001b[0;34m(\u001b[0m\u001b[0mx1\u001b[0m \u001b[0;34m-\u001b[0m \u001b[0mx2\u001b[0m\u001b[0;34m)\u001b[0m \u001b[0;34m**\u001b[0m \u001b[0;36m2\u001b[0m \u001b[0;34m+\u001b[0m \u001b[0;34m(\u001b[0m\u001b[0my1\u001b[0m \u001b[0;34m-\u001b[0m \u001b[0my2\u001b[0m\u001b[0;34m)\u001b[0m \u001b[0;34m**\u001b[0m \u001b[0;36m2\u001b[0m\u001b[0;34m)\u001b[0m\u001b[0;34m\u001b[0m\u001b[0;34m\u001b[0m\u001b[0m\n\u001b[0m\u001b[1;32m      3\u001b[0m   \u001b[0mrta\u001b[0m \u001b[0;34m=\u001b[0m \u001b[0mabs\u001b[0m\u001b[0;34m(\u001b[0m\u001b[0mrta\u001b[0m\u001b[0;34m)\u001b[0m\u001b[0;34m\u001b[0m\u001b[0;34m\u001b[0m\u001b[0m\n\u001b[1;32m      4\u001b[0m   \u001b[0mrta\u001b[0m \u001b[0;34m=\u001b[0m \u001b[0mround\u001b[0m\u001b[0;34m(\u001b[0m\u001b[0mrta\u001b[0m\u001b[0;34m,\u001b[0m \u001b[0;36m2\u001b[0m\u001b[0;34m)\u001b[0m\u001b[0;34m\u001b[0m\u001b[0;34m\u001b[0m\u001b[0m\n\u001b[1;32m      5\u001b[0m   \u001b[0;32mreturn\u001b[0m \u001b[0mrta\u001b[0m\u001b[0;34m\u001b[0m\u001b[0;34m\u001b[0m\u001b[0m\n",
            "\u001b[0;31mNameError\u001b[0m: name 'sqrt' is not defined"
          ]
        }
      ]
    },
    {
      "cell_type": "code",
      "metadata": {
        "id": "apkGpEsmwC7u",
        "colab_type": "code",
        "colab": {
          "base_uri": "https://localhost:8080/",
          "height": 34
        },
        "outputId": "1144295e-075b-408a-d15a-8543edda7b58"
      },
      "source": [
        "print(len(listadoDatosPuntosCartesiano))\n",
        "\n",
        "for dato in listadoDatosPuntosCartesiano:\n",
        "  # print(\"X=\",dato.dato1.coordenadas.x, \"Y=\", dato.dato1.coordenadas.y, \"D=\", dato.dato1.vector)\n",
        "  # print(\"X=\",dato.dato2.coordenadas.x, \"Y=\", dato.dato2.coordenadas.y, \"D=\", dato.dato2.vector)\n",
        "  # print(\"X=\",dato.dato3.coordenadas.x, \"Y=\", dato.dato3.coordenadas.y, \"D=\", dato.dato3.vector)\n",
        "  # print(\"X=\",dato.respuesta.x, \"Y=\", dato.respuesta.y)\n",
        "  # print()\n",
        "  pass"
      ],
      "execution_count": 8,
      "outputs": [
        {
          "output_type": "stream",
          "text": [
            "1000000\n"
          ],
          "name": "stdout"
        }
      ]
    },
    {
      "cell_type": "markdown",
      "metadata": {
        "id": "ZlvO7SuewzB6",
        "colab_type": "text"
      },
      "source": [
        "HACEMOS UNA VALIDACION USANDO EL ALGORITMO ANTERIOR PARA COMPROBAR RESULTADOS\n",
        "---\n",
        "\n"
      ]
    },
    {
      "cell_type": "code",
      "metadata": {
        "id": "NQV0uZY2wklr",
        "colab_type": "code",
        "colab": {
          "base_uri": "https://localhost:8080/",
          "height": 67
        },
        "outputId": "5c35feca-fa26-4fb1-c72d-e022bbe1c556"
      },
      "source": [
        "from time import time\n",
        "\n",
        "fallidos = 0\n",
        "listadoComprobado = list()\n",
        "start_time = time()\n",
        "for dato in listadoDatosPuntosCartesiano:\n",
        "  listadoBalizas = list()\n",
        "  listadoBalizas.append(BalizaInstalada(nombre=\"\",ubi=Ubicacion(x=dato.dato1.coordenadas.x, y=dato.dato1.coordenadas.y), dist=dato.dato1.vector))\n",
        "  listadoBalizas.append(BalizaInstalada(nombre=\"\",ubi=Ubicacion(x=dato.dato2.coordenadas.x, y=dato.dato2.coordenadas.y), dist=dato.dato2.vector))\n",
        "  listadoBalizas.append(BalizaInstalada(nombre=\"\",ubi=Ubicacion(x=dato.dato3.coordenadas.x, y=dato.dato3.coordenadas.y), dist=dato.dato3.vector))\n",
        "  \n",
        "  try:\n",
        "    CartesianoFinal, idsBalizasUsadas = CalcularPosicion(listadoBalizas)\n",
        "    respuestaCorrecta = (dato.respuesta.x, dato.respuesta.y)\n",
        "    #print(CartesianoFinal, respuestaCorrecta, end=\" -> \" )\n",
        "\n",
        "    superiorX = respuestaCorrecta[0] + respuestaCorrecta[0]*0.3\n",
        "    inferiorX = respuestaCorrecta[0] - respuestaCorrecta[0]*0.3\n",
        "\n",
        "    superiorY = respuestaCorrecta[1] + respuestaCorrecta[1]*0.3\n",
        "    inferiorY = respuestaCorrecta[1] - respuestaCorrecta[1]*0.3\n",
        "\n",
        "    if  inferiorX <= CartesianoFinal[0] <= superiorX and inferiorY <= CartesianoFinal[1] <= superiorY:\n",
        "      #print(\"X = ok\", end=\",\")\n",
        "      #print(\"Y = ok\")\n",
        "      listadoComprobado.append(dato)\n",
        "    else:\n",
        "      #print(\"X=\", CartesianoFinal[0], \", Y=\", CartesianoFinal[1])\n",
        "      fallidos = fallidos + 1\n",
        "  except:\n",
        "    pass\n",
        "\n",
        "print(\"Fallidos=\", fallidos)\n",
        "print(\"Correctos=\", len(listadoComprobado))\n",
        "elapsed_time = time() - start_time\n",
        "print(\"Elapsed time: %0.10f seconds.\" % elapsed_time)"
      ],
      "execution_count": 9,
      "outputs": [
        {
          "output_type": "stream",
          "text": [
            "Fallidos= 116914\n",
            "Correctos= 882569\n",
            "Elapsed time: 46.8251287937 seconds.\n"
          ],
          "name": "stdout"
        }
      ]
    },
    {
      "cell_type": "markdown",
      "metadata": {
        "id": "e9CKyJnz1jVA",
        "colab_type": "text"
      },
      "source": [
        "CONVERTIMOS LOS DATOS EMULADOS Y COMPROBADOS EN UN DATASET DE PANDAS"
      ]
    },
    {
      "cell_type": "code",
      "metadata": {
        "id": "rPe0GBbW_BFj",
        "colab_type": "code",
        "colab": {}
      },
      "source": [
        "import pandas as pd "
      ],
      "execution_count": 10,
      "outputs": []
    },
    {
      "cell_type": "code",
      "metadata": {
        "id": "hmI0RKqa-MaS",
        "colab_type": "code",
        "colab": {}
      },
      "source": [
        "listadoX1 = list()\n",
        "listadoY1 = list()\n",
        "listadoD1 = list()\n",
        "\n",
        "listadoX2 = list()\n",
        "listadoY2 = list()\n",
        "listadoD2 = list()\n",
        "\n",
        "listadoX3 = list()\n",
        "listadoY3 = list()\n",
        "listadoD3 = list()\n",
        "\n",
        "listadoRtaX = list()\n",
        "listadoRtaY = list()\n",
        "\n",
        "for dato in listadoComprobado:\n",
        "  listadoX1.append(dato.dato1.coordenadas.x)\n",
        "  listadoY1.append(dato.dato1.coordenadas.y)\n",
        "  listadoD1.append(dato.dato1.vector)\n",
        "  \n",
        "  listadoX2.append(dato.dato2.coordenadas.x)\n",
        "  listadoY2.append(dato.dato2.coordenadas.y)\n",
        "  listadoD2.append(dato.dato2.vector)\n",
        "  \n",
        "  listadoX3.append(dato.dato3.coordenadas.x)\n",
        "  listadoY3.append(dato.dato3.coordenadas.y)\n",
        "  listadoD3.append(dato.dato3.vector)\n",
        "\n",
        "  listadoRtaX.append(dato.respuesta.x)\n",
        "  listadoRtaY.append(dato.respuesta.y)\n",
        "\n",
        "data = dict()\n",
        "data['X1'] = listadoX1\n",
        "data['Y1'] = listadoY1\n",
        "data['D1'] = listadoD1\n",
        "\n",
        "data['X2'] = listadoX2\n",
        "data['Y2'] = listadoY2\n",
        "data['D2'] = listadoD2\n",
        "\n",
        "data['X3'] = listadoX3\n",
        "data['Y3'] = listadoY3\n",
        "data['D3'] = listadoD3\n",
        "\n",
        "data['X'] = listadoRtaX\n",
        "data['Y'] = listadoRtaY\n",
        "\n",
        "df = pd.DataFrame(data) "
      ],
      "execution_count": 38,
      "outputs": []
    },
    {
      "cell_type": "markdown",
      "metadata": {
        "id": "5S7C8YLvBq9w",
        "colab_type": "text"
      },
      "source": [
        "CREANDO RNA"
      ]
    },
    {
      "cell_type": "code",
      "metadata": {
        "id": "-BN2hK8VBg6g",
        "colab_type": "code",
        "colab": {
          "base_uri": "https://localhost:8080/",
          "height": 34
        },
        "outputId": "ffb89c48-222d-4989-c387-3349a037d4e3"
      },
      "source": [
        "from keras import models\n",
        "from keras import layers\n",
        "\n",
        "from sklearn.model_selection import train_test_split\n",
        "\n",
        "# Para las librerias para la red neuronal\n",
        "from keras.models import Sequential,Model\n",
        "from keras.layers import Dense, Dropout, Flatten\n",
        "from keras.layers import Conv2D, MaxPooling2D\n",
        "\n",
        "#callback para mejorar los entrenamientos\n",
        "from keras.callbacks import EarlyStopping, ReduceLROnPlateau, ModelCheckpoint, Callback  "
      ],
      "execution_count": 13,
      "outputs": [
        {
          "output_type": "stream",
          "text": [
            "Using TensorFlow backend.\n"
          ],
          "name": "stderr"
        }
      ]
    },
    {
      "cell_type": "code",
      "metadata": {
        "id": "tsvby6o-C-7y",
        "colab_type": "code",
        "colab": {}
      },
      "source": [
        ""
      ],
      "execution_count": 17,
      "outputs": []
    },
    {
      "cell_type": "code",
      "metadata": {
        "id": "la1EuDuVKWTH",
        "colab_type": "code",
        "colab": {
          "base_uri": "https://localhost:8080/",
          "height": 286
        },
        "outputId": "46dcad3f-189e-4bb8-d229-981f77edf56f"
      },
      "source": [
        "model = Sequential()\n",
        "model.add(Dense(30, input_dim=inputs.shape[1], activation='relu'))\n",
        "model.add(Dense(60, activation='relu'))\n",
        "model.add(Dense(18, activation='relu'))\n",
        "model.add(Dense(outputs.shape[1], activation='relu'))\n",
        "model.summary()"
      ],
      "execution_count": 56,
      "outputs": [
        {
          "output_type": "stream",
          "text": [
            "Model: \"sequential_5\"\n",
            "_________________________________________________________________\n",
            "Layer (type)                 Output Shape              Param #   \n",
            "=================================================================\n",
            "dense_12 (Dense)             (None, 30)                300       \n",
            "_________________________________________________________________\n",
            "dense_13 (Dense)             (None, 90)                2790      \n",
            "_________________________________________________________________\n",
            "dense_14 (Dense)             (None, 35)                3185      \n",
            "_________________________________________________________________\n",
            "dense_15 (Dense)             (None, 2)                 72        \n",
            "=================================================================\n",
            "Total params: 6,347\n",
            "Trainable params: 6,347\n",
            "Non-trainable params: 0\n",
            "_________________________________________________________________\n"
          ],
          "name": "stdout"
        }
      ]
    },
    {
      "cell_type": "code",
      "metadata": {
        "id": "toqN_nsoMFqE",
        "colab_type": "code",
        "colab": {
          "base_uri": "https://localhost:8080/",
          "height": 466
        },
        "outputId": "e9cf5fe8-d4fc-463a-e339-9725b3f56a51"
      },
      "source": [
        "from keras.utils import plot_model\n",
        "plot_model(model, to_file='Red_Neuronall.png')"
      ],
      "execution_count": 57,
      "outputs": [
        {
          "output_type": "execute_result",
          "data": {
            "image/png": "[encoded data removed]",
            "text/plain": [
              "<IPython.core.display.Image object>"
            ]
          },
          "metadata": {
            "tags": []
          },
          "execution_count": 57
        }
      ]
    },
    {
      "cell_type": "code",
      "metadata": {
        "id": "AUSs4xfXMQ5T",
        "colab_type": "code",
        "colab": {}
      },
      "source": [
        "model.compile(loss='mean_squared_error',  #Usamos el error cuadratico para tener valores absolutos y facil de medir\n",
        "              optimizer='adam',  #Adam es un tipo de optimizador que no requiere parámetros de learning rate explícitos sino que los estima\n",
        "              metrics=['binary_accuracy'])"
      ],
      "execution_count": 58,
      "outputs": []
    },
    {
      "cell_type": "code",
      "metadata": {
        "id": "F98V2yovfqDN",
        "colab_type": "code",
        "colab": {}
      },
      "source": [
        "train, test = train_test_split(df, test_size=0.3)\n",
        "train, valid = train_test_split(df, test_size=0.2)\n",
        "print(len(train))\n",
        "print(len(test))\n",
        "print(len(valid))\n",
        "\n",
        "def extractInputsAndOutputs(dataframe):\n",
        "  inputs = dataframe.iloc[:,0:9]\n",
        "  outputs = dataframe.iloc[:,9:11]\n",
        "  return inputs, outputs"
      ],
      "execution_count": null,
      "outputs": []
    },
    {
      "cell_type": "code",
      "metadata": {
        "id": "V2oMjSMZMViS",
        "colab_type": "code",
        "colab": {}
      },
      "source": [
        "inputs, outputs = extractInputsAndOutputs(train)\n",
        "print(\"Input=\",inputs.shape, \", Outputs=\", outputs.shape)\n",
        "\n",
        "history = model.fit(inputs, outputs, epochs=30)"
      ],
      "execution_count": null,
      "outputs": []
    },
    {
      "cell_type": "code",
      "metadata": {
        "id": "Fh2E82njMk3V",
        "colab_type": "code",
        "colab": {
          "base_uri": "https://localhost:8080/",
          "height": 229
        },
        "outputId": "e98e5156-a236-4c14-a6d4-5b1caae5fac5"
      },
      "source": [
        "import matplotlib.pyplot as plt\n",
        "\n",
        "# list all data in history\n",
        "print(history.history.keys())\n",
        "# summarize history for accuracy\n",
        "\n",
        "# summarize history for loss\n",
        "plt.plot(history.history['loss'])\n",
        "plt.plot(history.history['binary_accuracy'])\n",
        "plt.title('model loss')\n",
        "plt.ylabel('loss')\n",
        "plt.xlabel('epoch')\n",
        "plt.legend(['train', 'test'], loc='upper left')\n",
        "plt.show()"
      ],
      "execution_count": 51,
      "outputs": [
        {
          "output_type": "error",
          "ename": "NameError",
          "evalue": "ignored",
          "traceback": [
            "\u001b[0;31m---------------------------------------------------------------------------\u001b[0m",
            "\u001b[0;31mNameError\u001b[0m                                 Traceback (most recent call last)",
            "\u001b[0;32m<ipython-input-51-959437203f0f>\u001b[0m in \u001b[0;36m<module>\u001b[0;34m()\u001b[0m\n\u001b[1;32m      2\u001b[0m \u001b[0;34m\u001b[0m\u001b[0m\n\u001b[1;32m      3\u001b[0m \u001b[0;31m# list all data in history\u001b[0m\u001b[0;34m\u001b[0m\u001b[0;34m\u001b[0m\u001b[0;34m\u001b[0m\u001b[0m\n\u001b[0;32m----> 4\u001b[0;31m \u001b[0mprint\u001b[0m\u001b[0;34m(\u001b[0m\u001b[0mhistory\u001b[0m\u001b[0;34m.\u001b[0m\u001b[0mhistory\u001b[0m\u001b[0;34m.\u001b[0m\u001b[0mkeys\u001b[0m\u001b[0;34m(\u001b[0m\u001b[0;34m)\u001b[0m\u001b[0;34m)\u001b[0m\u001b[0;34m\u001b[0m\u001b[0;34m\u001b[0m\u001b[0m\n\u001b[0m\u001b[1;32m      5\u001b[0m \u001b[0;31m# summarize history for accuracy\u001b[0m\u001b[0;34m\u001b[0m\u001b[0;34m\u001b[0m\u001b[0;34m\u001b[0m\u001b[0m\n\u001b[1;32m      6\u001b[0m \u001b[0;34m\u001b[0m\u001b[0m\n",
            "\u001b[0;31mNameError\u001b[0m: name 'history' is not defined"
          ]
        }
      ]
    }
  ]
}