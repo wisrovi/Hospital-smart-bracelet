{
  "nbformat": 4,
  "nbformat_minor": 0,
  "metadata": {
    "colab": {
      "name": "Untitled0.ipynb",
      "provenance": [],
      "collapsed_sections": [],
      "authorship_tag": "ABX9TyNLTQtbwBgHucwuqgpccaYH",
      "include_colab_link": true
    },
    "kernelspec": {
      "name": "python3",
      "display_name": "Python 3"
    }
  },
  "cells": [
    {
      "cell_type": "markdown",
      "metadata": {
        "id": "view-in-github",
        "colab_type": "text"
      },
      "source": [
        "<a href=\"https://colab.research.google.com/github/wisrovi/Hospital-smart-bracelet/blob/master/EcuacionesDistanciaV1.0.ipynb\" target=\"_parent\"><img src=\"https://colab.research.google.com/assets/colab-badge.svg\" alt=\"Open In Colab\"/></a>"
      ]
    },
    {
      "cell_type": "markdown",
      "metadata": {
        "id": "Tz137km5U8Lt",
        "colab_type": "text"
      },
      "source": [
        "INICIAR LIBRERIAS SYMPY"
      ]
    },
    {
      "cell_type": "code",
      "metadata": {
        "id": "4kSMHwSPRQtX",
        "colab_type": "code",
        "colab": {}
      },
      "source": [
        "from sympy import Symbol\n",
        "from sympy import solve, sqrt, simplify\n",
        "from sympy import init_printing, srepr\n",
        "\n",
        "\n",
        "init_printing()"
      ],
      "execution_count": 1,
      "outputs": []
    },
    {
      "cell_type": "code",
      "metadata": {
        "id": "O4dLNIyBQ4A_",
        "colab_type": "code",
        "colab": {}
      },
      "source": [
        "def CalcularDistanciaDosPuntos(x1,x2,y1,y2):\n",
        "  return sqrt((x1 - x2) ** 2 + (y1 - y2) ** 2)\n",
        "\n",
        "def CalcularArea(a, b, c):\n",
        "  s = (a + b + c) / 2\n",
        "  contenidoRaiz = s * (s - a) * (s - b) * (s - c)\n",
        "  contenidoRaiz = abs(contenidoRaiz)\n",
        "  area = sqrt(contenidoRaiz)\n",
        "  return area\n",
        "\n",
        "def DefinirEcuacion1(x1,x2,y1,y2, area):\n",
        "  global x\n",
        "  global y\n",
        "  return (-((x1 * y2 - x2 * y1) + y * (x2 - x1) + x * (y1 - y2)) / 2) - area\n",
        "\n",
        "def DefinirEcuacion2(x1,x2,y1,y2, a, b):\n",
        "  global x\n",
        "  global y\n",
        "  return (x * (2 * x1 - 2 * x2) + y * (2 * y1 - 2 * y2) + (x2 ** 2 - x1 ** 2 - a ** 2 + b ** 2 + y2 ** 2 - y1 ** 2))\n",
        "\n",
        "def SolucionarEcuaciones(ecua1, ecua2):\n",
        "  rta = solve((ecua1, ecua2), dict=True)[0]\n",
        "  valorx = round(rta[x], 1)\n",
        "  valory = round(rta[y], 1)\n",
        "  if valorx >= 0 and valory >= 0:\n",
        "    return valorx, valory\n",
        "  else:\n",
        "    if valorx >= -0.5 and valory >= -0.5:\n",
        "        return abs(valorx), abs(valory)\n",
        "    return None, None\n",
        "\n",
        "def hallarCoordenada(punto_clave1, punto_clave2):\n",
        "    puntoA = punto_clave1[0]\n",
        "    puntoB = punto_clave2[0]\n",
        "\n",
        "    x1, y1 = puntoA[0], puntoA[1]\n",
        "    x2, y2 = puntoB[0], puntoB[1]\n",
        "    \n",
        "    b = punto_clave1[1]\n",
        "    a = punto_clave2[1]    \n",
        "\n",
        "    # hallo la distancia entre los dos puntos conocidos    \n",
        "    c = CalcularDistanciaDosPuntos(x1,x2,y1,y2)\n",
        "\n",
        "    # hallo el area del triangulo que forman los tres vectores\n",
        "    area = CalcularArea(a,b,c)\n",
        "\n",
        "    # defino la ecuacion de la formula del area con el metodo de determinantes\n",
        "    ecua1 = DefinirEcuacion1(x1,x2,y1,y2, area)\n",
        "\n",
        "    # con las ecuaciones de distancia hallo una segunda ecuación\n",
        "    ecua2 = DefinirEcuacion2(x1,x2,y1,y2, a, b)\n",
        "\n",
        "    return ecua1, ecua2"
      ],
      "execution_count": 2,
      "outputs": []
    },
    {
      "cell_type": "markdown",
      "metadata": {
        "id": "P6FZgtmDK1CL",
        "colab_type": "text"
      },
      "source": [
        "SOLUCION EJEMPLO"
      ]
    },
    {
      "cell_type": "code",
      "metadata": {
        "id": "IYO-sI4S89jL",
        "colab_type": "code",
        "colab": {
          "base_uri": "https://localhost:8080/",
          "height": 119
        },
        "outputId": "d7126a6e-75d7-4937-c5a5-b6a205f74222"
      },
      "source": [
        "puntoA = (2, 12)\n",
        "distancia_al_puntoA = 0.4\n",
        "\n",
        "puntoB = (10, 10)\n",
        "distancia_al_puntoB = 1.12\n",
        "\n",
        "puntoC = (2, 2)\n",
        "distancia_al_puntoC = 3.55\n",
        "\n",
        "print(\"A y B:\")\n",
        "punto_clave1 = puntoA, distancia_al_puntoA\n",
        "punto_clave2 = puntoB, distancia_al_puntoB\n",
        "\n",
        "ecua1, ecua2 = hallarCoordenada(punto_clave1, punto_clave2)\n",
        "# hallo los puntos del vertice donde apuntan los dos vectores de los vertices fijos\n",
        "valorx, valory = SolucionarEcuaciones(ecua1, ecua2)\n",
        "print(valorx, valory)\n",
        "\n",
        "print(\"A y C:\")\n",
        "punto_clave1 = puntoA, distancia_al_puntoA\n",
        "punto_clave2 = puntoC, distancia_al_puntoC\n",
        "ecua1, ecua2 = hallarCoordenada(punto_clave1, punto_clave2)\n",
        "# hallo los puntos del vertice donde apuntan los dos vectores de los vertices fijos\n",
        "valorx, valory = SolucionarEcuaciones(ecua1, ecua2)\n",
        "print(valorx, valory)\n",
        "\n",
        "print(\"B y C:\")\n",
        "punto_clave1 = puntoB, distancia_al_puntoB\n",
        "punto_clave2 = puntoC, distancia_al_puntoC\n",
        "ecua1, ecua2 = hallarCoordenada(punto_clave1, punto_clave2)\n",
        "# hallo los puntos del vertice donde apuntan los dos vectores de los vertices fijos\n",
        "valorx, valory = SolucionarEcuaciones(ecua1, ecua2)\n",
        "print(valorx, valory)"
      ],
      "execution_count": 6,
      "outputs": [
        {
          "output_type": "stream",
          "text": [
            "A y B:\n",
            "5.0 7.1\n",
            "A y C:\n",
            "None None\n",
            "B y C:\n",
            "2.8 9.9\n"
          ],
          "name": "stdout"
        }
      ]
    },
    {
      "cell_type": "markdown",
      "metadata": {
        "id": "YHDi27-l_pDP",
        "colab_type": "text"
      },
      "source": [
        "ECUACIONES USADAS"
      ]
    },
    {
      "cell_type": "code",
      "metadata": {
        "id": "qYMSoJSoRh3v",
        "colab_type": "code",
        "colab": {}
      },
      "source": [
        "usarValoresReales = False"
      ],
      "execution_count": 3,
      "outputs": []
    },
    {
      "cell_type": "code",
      "metadata": {
        "id": "MhHEdh3687iP",
        "colab_type": "code",
        "colab": {
          "base_uri": "https://localhost:8080/",
          "height": 120
        },
        "outputId": "f4a4b943-0921-42c1-99d7-3f7db53ba81e"
      },
      "source": [
        "punto_clave1 = None\n",
        "punto_clave2 = None\n",
        "\n",
        "x = Symbol(\"x\")\n",
        "y = Symbol(\"y\")\n",
        "\n",
        "if usarValoresReales:\n",
        "  x_p1 = 2\n",
        "  y_p1 = 12\n",
        "  l_p1 = 0.4\n",
        "\n",
        "  x_p2 = 10\n",
        "  y_p2 = 10\n",
        "  l_p2 = 1.12  \n",
        "else:\n",
        "  x_p1 = Symbol(\"x1\")\n",
        "  y_p1 = Symbol(\"y1\")\n",
        "  l_p1 = Symbol(\"l1\")\n",
        "\n",
        "  x_p2 = Symbol(\"x2\")\n",
        "  y_p2 = Symbol(\"y2\")\n",
        "  l_p2 = Symbol(\"l2\")\n",
        "\n",
        "print(\"A y B:\")\n",
        "punto_clave1 = (x_p1, y_p1), l_p1\n",
        "punto_clave2 = (x_p2, y_p2), l_p2\n",
        "\n",
        "ecua1, ecua2 = hallarCoordenada(punto_clave1, punto_clave2)\n",
        "simplify(ecua1).evalf()"
      ],
      "execution_count": 4,
      "outputs": [
        {
          "output_type": "stream",
          "text": [
            "A y B:\n"
          ],
          "name": "stdout"
        },
        {
          "output_type": "execute_result",
          "data": {
            "image/png": "[encoded data removed]",
            "text/latex": "$$- 0.5 x \\left(y_{1} - y_{2}\\right) - 0.5 x_{1} y_{2} + 0.5 x_{2} y_{1} + 0.5 y \\left(x_{1} - x_{2}\\right) - 0.25 \\left|{\\left(- l_{1} + l_{2} + \\sqrt{\\left(x_{1} - x_{2}\\right)^{2} + \\left(y_{1} - y_{2}\\right)^{2}}\\right) \\left(l_{1} - l_{2} + \\sqrt{\\left(x_{1} - x_{2}\\right)^{2} + \\left(y_{1} - y_{2}\\right)^{2}}\\right) \\left(l_{1} + l_{2} - \\sqrt{\\left(x_{1} - x_{2}\\right)^{2} + \\left(y_{1} - y_{2}\\right)^{2}}\\right) \\left(l_{1} + l_{2} + \\sqrt{\\left(x_{1} - x_{2}\\right)^{2} + \\left(y_{1} - y_{2}\\right)^{2}}\\right)}\\right|^{0.5}$$",
            "text/plain": [
              "                                                                              \n",
              "                                                                  │⎛          \n",
              "                                                                  │⎜          \n",
              "-0.5⋅x⋅(y₁ - y₂) - 0.5⋅x₁⋅y₂ + 0.5⋅x₂⋅y₁ + 0.5⋅y⋅(x₁ - x₂) - 0.25⋅│⎝-l₁ + l₂ +\n",
              "\n",
              "                                                                              \n",
              "    _________________________⎞ ⎛             _________________________⎞ ⎛     \n",
              "   ╱          2            2 ⎟ ⎜            ╱          2            2 ⎟ ⎜     \n",
              " ╲╱  (x₁ - x₂)  + (y₁ - y₂)  ⎠⋅⎝l₁ - l₂ + ╲╱  (x₁ - x₂)  + (y₁ - y₂)  ⎠⋅⎝l₁ + \n",
              "\n",
              "                                                                            0.\n",
              "        _________________________⎞ ⎛             _________________________⎞│  \n",
              "       ╱          2            2 ⎟ ⎜            ╱          2            2 ⎟│  \n",
              "l₂ - ╲╱  (x₁ - x₂)  + (y₁ - y₂)  ⎠⋅⎝l₁ + l₂ + ╲╱  (x₁ - x₂)  + (y₁ - y₂)  ⎠│  \n",
              "\n",
              "5\n",
              " \n",
              " \n",
              " "
            ]
          },
          "metadata": {
            "tags": []
          },
          "execution_count": 4
        }
      ]
    },
    {
      "cell_type": "code",
      "metadata": {
        "id": "h5exuqXFLA8C",
        "colab_type": "code",
        "colab": {
          "base_uri": "https://localhost:8080/",
          "height": 38
        },
        "outputId": "32bc24ee-8efd-42b2-fe29-ec173439243a"
      },
      "source": [
        "simplify(ecua2).evalf()"
      ],
      "execution_count": 5,
      "outputs": [
        {
          "output_type": "execute_result",
          "data": {
            "image/png": "[encoded data removed]",
            "text/latex": "$$l_{1}^{2} - l_{2}^{2} + 2.0 x \\left(x_{1} - x_{2}\\right) - x_{1}^{2} + x_{2}^{2} + 2.0 y \\left(y_{1} - y_{2}\\right) - y_{1}^{2} + y_{2}^{2}$$",
            "text/plain": [
              "  2     2                       2     2                       2     2\n",
              "l₁  - l₂  + 2.0⋅x⋅(x₁ - x₂) - x₁  + x₂  + 2.0⋅y⋅(y₁ - y₂) - y₁  + y₂ "
            ]
          },
          "metadata": {
            "tags": []
          },
          "execution_count": 5
        }
      ]
    },
    {
      "cell_type": "code",
      "metadata": {
        "id": "Jik9Ht9Xv0dw",
        "colab_type": "code",
        "colab": {
          "base_uri": "https://localhost:8080/",
          "height": 51
        },
        "outputId": "4ddc97a0-02ab-4548-9c4a-21e85154a6d6"
      },
      "source": [
        "from sympy import Symbol\n",
        "from sympy.printing.latex import LatexPrinter, print_latex\n",
        "from sympy.core.function import UndefinedFunction, Function\n",
        "\n",
        "\n",
        "class MyLatexPrinter(LatexPrinter):\n",
        "    \"\"\"Print derivative of a function of symbols in a shorter form.\n",
        "    \"\"\"\n",
        "    def _print_Derivative(self, expr):\n",
        "        function, *vars = expr.args\n",
        "        if not isinstance(type(function), UndefinedFunction) or \\\n",
        "           not all(isinstance(i, Symbol) for i in vars):\n",
        "            return super()._print_Derivative(expr)\n",
        "\n",
        "        # If you want the printer to work correctly for nested\n",
        "        # expressions then use self._print() instead of str() or latex().\n",
        "        # See the example of nested modulo below in the custom printing\n",
        "        # method section.\n",
        "        return \"{}_{{{}}}\".format(\n",
        "            self._print(Symbol(function.func.__name__)),\n",
        "                        ''.join(self._print(i) for i in vars))\n",
        "\n",
        "\n",
        "def print_my_latex(expr):\n",
        "    \"\"\" Most of the printers define their own wrappers for print().\n",
        "    These wrappers usually take printer settings. Our printer does not have\n",
        "    any settings.\n",
        "    \"\"\"\n",
        "    print(MyLatexPrinter().doprint(expr))\n",
        "\n",
        "from IPython.display import Image, display\n",
        "from IPython.lib.latextools import latex_to_png\n",
        "\n",
        "expr = simplify(ecua2).evalf()\n",
        "print_latex(expr)\n",
        "print_my_latex(expr)"
      ],
      "execution_count": 6,
      "outputs": [
        {
          "output_type": "stream",
          "text": [
            "l_{1}^{2} - l_{2}^{2} + 2.0 x \\left(x_{1} - x_{2}\\right) - x_{1}^{2} + x_{2}^{2} + 2.0 y \\left(y_{1} - y_{2}\\right) - y_{1}^{2} + y_{2}^{2}\n",
            "l_{1}^{2} - l_{2}^{2} + 2.0 x \\left(x_{1} - x_{2}\\right) - x_{1}^{2} + x_{2}^{2} + 2.0 y \\left(y_{1} - y_{2}\\right) - y_{1}^{2} + y_{2}^{2}\n"
          ],
          "name": "stdout"
        }
      ]
    },
    {
      "cell_type": "code",
      "metadata": {
        "id": "MI4T7Z9Hv_j2",
        "colab_type": "code",
        "colab": {
          "base_uri": "https://localhost:8080/",
          "height": 75
        },
        "outputId": "818abb8d-bf02-4934-f9f7-107c0a1f0525"
      },
      "source": [
        "expr = simplify(ecua1).evalf()\n",
        "\n",
        "eq = MyLatexPrinter().doprint(expr)\n",
        "data = latex_to_png(eq, wrap=True)\n",
        "display(Image(data=data))\n",
        "\n",
        "print_my_latex(expr)"
      ],
      "execution_count": 7,
      "outputs": [
        {
          "output_type": "display_data",
          "data": {
            "image/png": "[encoded data removed]",
            "text/plain": [
              "<IPython.core.display.Image object>"
            ]
          },
          "metadata": {
            "tags": []
          }
        },
        {
          "output_type": "stream",
          "text": [
            "- 0.5 x \\left(y_{1} - y_{2}\\right) - 0.5 x_{1} y_{2} + 0.5 x_{2} y_{1} + 0.5 y \\left(x_{1} - x_{2}\\right) - 0.25 \\left|{\\left(- l_{1} + l_{2} + \\sqrt{\\left(x_{1} - x_{2}\\right)^{2} + \\left(y_{1} - y_{2}\\right)^{2}}\\right) \\left(l_{1} - l_{2} + \\sqrt{\\left(x_{1} - x_{2}\\right)^{2} + \\left(y_{1} - y_{2}\\right)^{2}}\\right) \\left(l_{1} + l_{2} - \\sqrt{\\left(x_{1} - x_{2}\\right)^{2} + \\left(y_{1} - y_{2}\\right)^{2}}\\right) \\left(l_{1} + l_{2} + \\sqrt{\\left(x_{1} - x_{2}\\right)^{2} + \\left(y_{1} - y_{2}\\right)^{2}}\\right)}\\right|^{0.5}\n"
          ],
          "name": "stdout"
        }
      ]
    },
    {
      "cell_type": "code",
      "metadata": {
        "id": "CWWme2TcwZqO",
        "colab_type": "code",
        "colab": {
          "base_uri": "https://localhost:8080/",
          "height": 62
        },
        "outputId": "db285ff4-a270-49fe-82ff-01d1fc108cee"
      },
      "source": [
        "expr = simplify(ecua2).evalf()\n",
        "\n",
        "eq = MyLatexPrinter().doprint(expr)\n",
        "data = latex_to_png(eq, wrap=True)\n",
        "display(Image(data=data))\n",
        "\n",
        "print_my_latex(expr)"
      ],
      "execution_count": 8,
      "outputs": [
        {
          "output_type": "display_data",
          "data": {
            "image/png": "[encoded data removed]",
            "text/plain": [
              "<IPython.core.display.Image object>"
            ]
          },
          "metadata": {
            "tags": []
          }
        },
        {
          "output_type": "stream",
          "text": [
            "l_{1}^{2} - l_{2}^{2} + 2.0 x \\left(x_{1} - x_{2}\\right) - x_{1}^{2} + x_{2}^{2} + 2.0 y \\left(y_{1} - y_{2}\\right) - y_{1}^{2} + y_{2}^{2}\n"
          ],
          "name": "stdout"
        }
      ]
    },
    {
      "cell_type": "markdown",
      "metadata": {
        "id": "MzB--4k3LPAa",
        "colab_type": "text"
      },
      "source": [
        "REPLICAR ECUACIONES"
      ]
    },
    {
      "cell_type": "code",
      "metadata": {
        "id": "esMq8uXqLVZK",
        "colab_type": "code",
        "colab": {
          "base_uri": "https://localhost:8080/",
          "height": 231
        },
        "outputId": "3585c886-f791-4af7-94ae-cfb3a648e53e"
      },
      "source": [
        "constanteX_ecuacion1 = -(y_p1/2 - y_p2/2)\n",
        "constanteY_ecuacion1 = x_p1/2 - x_p2/2\n",
        "\n",
        "raizDenominador = sqrt(  pow((x_p1-x_p2),2)  +  pow((y_p1-y_p2),2) )\n",
        "\n",
        "denominador1 = -l_p1 + l_p2 + raizDenominador\n",
        "denominador2 = l_p1 - l_p2 + raizDenominador\n",
        "denominador3 = l_p1 + l_p2 - raizDenominador\n",
        "denominador4 = l_p1 + l_p2 + raizDenominador\n",
        "\n",
        "denominador = denominador1 * denominador2 * denominador3 * denominador4\n",
        "denominador = abs(denominador)\n",
        "denominador = sqrt(denominador)\n",
        "\n",
        "constanteNumerica_ecuacion1 = (1/4) * denominador  + ((x_p1*y_p2)/2) - ((x_p2*y_p1)/2) \n",
        "\n",
        "print(\"Ecuacion 1 (Manual)\")\n",
        "ecuacion1 = x*(constanteX_ecuacion1) + (y)*(constanteY_ecuacion1) - constanteNumerica_ecuacion1\n",
        "simplify(ecuacion1).evalf()"
      ],
      "execution_count": 1,
      "outputs": [
        {
          "output_type": "error",
          "ename": "NameError",
          "evalue": "ignored",
          "traceback": [
            "\u001b[0;31m---------------------------------------------------------------------------\u001b[0m",
            "\u001b[0;31mNameError\u001b[0m                                 Traceback (most recent call last)",
            "\u001b[0;32m<ipython-input-1-75ed6c58eb44>\u001b[0m in \u001b[0;36m<module>\u001b[0;34m()\u001b[0m\n\u001b[0;32m----> 1\u001b[0;31m \u001b[0mconstanteX_ecuacion1\u001b[0m \u001b[0;34m=\u001b[0m \u001b[0;34m-\u001b[0m\u001b[0;34m(\u001b[0m\u001b[0my_p1\u001b[0m\u001b[0;34m/\u001b[0m\u001b[0;36m2\u001b[0m \u001b[0;34m-\u001b[0m \u001b[0my_p2\u001b[0m\u001b[0;34m/\u001b[0m\u001b[0;36m2\u001b[0m\u001b[0;34m)\u001b[0m\u001b[0;34m\u001b[0m\u001b[0;34m\u001b[0m\u001b[0m\n\u001b[0m\u001b[1;32m      2\u001b[0m \u001b[0mconstanteY_ecuacion1\u001b[0m \u001b[0;34m=\u001b[0m \u001b[0mx_p1\u001b[0m\u001b[0;34m/\u001b[0m\u001b[0;36m2\u001b[0m \u001b[0;34m-\u001b[0m \u001b[0mx_p2\u001b[0m\u001b[0;34m/\u001b[0m\u001b[0;36m2\u001b[0m\u001b[0;34m\u001b[0m\u001b[0;34m\u001b[0m\u001b[0m\n\u001b[1;32m      3\u001b[0m \u001b[0;34m\u001b[0m\u001b[0m\n\u001b[1;32m      4\u001b[0m \u001b[0mraizDenominador\u001b[0m \u001b[0;34m=\u001b[0m \u001b[0msqrt\u001b[0m\u001b[0;34m(\u001b[0m  \u001b[0mpow\u001b[0m\u001b[0;34m(\u001b[0m\u001b[0;34m(\u001b[0m\u001b[0mx_p1\u001b[0m\u001b[0;34m-\u001b[0m\u001b[0mx_p2\u001b[0m\u001b[0;34m)\u001b[0m\u001b[0;34m,\u001b[0m\u001b[0;36m2\u001b[0m\u001b[0;34m)\u001b[0m  \u001b[0;34m+\u001b[0m  \u001b[0mpow\u001b[0m\u001b[0;34m(\u001b[0m\u001b[0;34m(\u001b[0m\u001b[0my_p1\u001b[0m\u001b[0;34m-\u001b[0m\u001b[0my_p2\u001b[0m\u001b[0;34m)\u001b[0m\u001b[0;34m,\u001b[0m\u001b[0;36m2\u001b[0m\u001b[0;34m)\u001b[0m \u001b[0;34m)\u001b[0m\u001b[0;34m\u001b[0m\u001b[0;34m\u001b[0m\u001b[0m\n\u001b[1;32m      5\u001b[0m \u001b[0;34m\u001b[0m\u001b[0m\n",
            "\u001b[0;31mNameError\u001b[0m: name 'y_p1' is not defined"
          ]
        }
      ]
    },
    {
      "cell_type": "code",
      "metadata": {
        "id": "7FVptT6qLVhA",
        "colab_type": "code",
        "colab": {
          "base_uri": "https://localhost:8080/",
          "height": 55
        },
        "outputId": "777c4e7d-200a-441b-c771-e886c985a59e"
      },
      "source": [
        "print(\"Ecuacion 2 (Manual)\")\n",
        "constanteX_ecuacion2 =  2*x_p1 -2*x_p2\n",
        "constanteY_ecuacion2 = 2*y_p1 -2*y_p2\n",
        "constanteNumerica_ecuacion2 = pow(l_p1, 2) - pow(l_p2, 2) - pow(x_p1, 2) + pow(x_p2, 2) - pow(y_p1, 2) + pow(y_p2, 2) \n",
        "\n",
        "ecuacion2 = x*(constanteX_ecuacion2) + y*(constanteY_ecuacion2)  + constanteNumerica_ecuacion2\n",
        "simplify(ecuacion2).evalf()"
      ],
      "execution_count": 62,
      "outputs": [
        {
          "output_type": "stream",
          "text": [
            "Ecuacion 2 (Manual)\n"
          ],
          "name": "stdout"
        },
        {
          "output_type": "execute_result",
          "data": {
            "image/png": "[encoded data removed]",
            "text/latex": "$$- 16.0 x + 4.0 y + 50.9056$$",
            "text/plain": [
              "-16.0⋅x + 4.0⋅y + 50.9056"
            ]
          },
          "metadata": {
            "tags": []
          },
          "execution_count": 62
        }
      ]
    },
    {
      "cell_type": "code",
      "metadata": {
        "id": "p9PVA5QTUT7X",
        "colab_type": "code",
        "colab": {
          "base_uri": "https://localhost:8080/",
          "height": 34
        },
        "outputId": "e7f3ebb4-d619-463c-e7bb-e40e5148fca5"
      },
      "source": [
        "rta = solve((ecuacion1, ecuacion2), dict=True)[0]\n",
        "print(rta)"
      ],
      "execution_count": 53,
      "outputs": [
        {
          "output_type": "stream",
          "text": [
            "{x: 4.95651218711058, y: 7.09964874844230}\n"
          ],
          "name": "stdout"
        }
      ]
    },
    {
      "cell_type": "markdown",
      "metadata": {
        "id": "_JBgMzeH9Lae",
        "colab_type": "text"
      },
      "source": [
        "MODO MANUAL\n"
      ]
    },
    {
      "cell_type": "code",
      "metadata": {
        "id": "g37w_-Zt87ap",
        "colab_type": "code",
        "colab": {}
      },
      "source": [
        "puntoB = (10, 10)\n",
        "distancia_al_puntoB = 1.12\n",
        "\n",
        "puntoA = (2, 12)\n",
        "distancia_al_puntoA = 0.4\n",
        "\n",
        "x_p1 = puntoA[0]\n",
        "y_p1 = puntoA[1]\n",
        "l_p1 = distancia_al_puntoA\n",
        "\n",
        "x_p2 = puntoB[0]\n",
        "y_p2 = puntoB[1]\n",
        "l_p2 = distancia_al_puntoB"
      ],
      "execution_count": 10,
      "outputs": []
    },
    {
      "cell_type": "markdown",
      "metadata": {
        "id": "qPnI2kOU96m-",
        "colab_type": "text"
      },
      "source": [
        "SOLUCION SISTEMA"
      ]
    },
    {
      "cell_type": "code",
      "metadata": {
        "id": "lkT0-4S7mjMT",
        "colab_type": "code",
        "colab": {
          "base_uri": "https://localhost:8080/",
          "height": 37
        },
        "outputId": "b168d5b6-f165-4151-f463-10079fc691a5"
      },
      "source": [
        "rtaY = -(constanteX_ecuacion1*constanteNumerica_ecuacion2 + constanteX_ecuacion2*constanteNumerica_ecuacion1) / (constanteX_ecuacion1*constanteY_ecuacion2 - constanteX_ecuacion2*constanteY_ecuacion1)\n",
        "simplify(rtaY).evalf()"
      ],
      "execution_count": 65,
      "outputs": [
        {
          "output_type": "execute_result",
          "data": {
            "image/png": "[encoded data removed]",
            "text/latex": "$$7.0996487484423$$",
            "text/plain": [
              "7.09964874844230"
            ]
          },
          "metadata": {
            "tags": []
          },
          "execution_count": 65
        }
      ]
    },
    {
      "cell_type": "code",
      "metadata": {
        "id": "cjae7QO87NCC",
        "colab_type": "code",
        "colab": {
          "base_uri": "https://localhost:8080/",
          "height": 37
        },
        "outputId": "945bedac-e755-460d-8ae7-cffb294f7537"
      },
      "source": [
        "rtaX = ( -constanteNumerica_ecuacion2 - constanteY_ecuacion2*rtaY ) / constanteX_ecuacion2\n",
        "simplify(rtaX).evalf()"
      ],
      "execution_count": 67,
      "outputs": [
        {
          "output_type": "execute_result",
          "data": {
            "image/png": "[encoded data removed]",
            "text/latex": "$$4.95651218711057$$",
            "text/plain": [
              "4.95651218711057"
            ]
          },
          "metadata": {
            "tags": []
          },
          "execution_count": 67
        }
      ]
    },
    {
      "cell_type": "markdown",
      "metadata": {
        "id": "H-pMoTc3ZYYo",
        "colab_type": "text"
      },
      "source": [
        "EVALUAR ECUACIONES"
      ]
    },
    {
      "cell_type": "code",
      "metadata": {
        "id": "j5UDb8GTZe3W",
        "colab_type": "code",
        "colab": {}
      },
      "source": [
        "from math import sqrt\n",
        "def CalcularPuntos(punto_clave1, punto_clave2):  \n",
        "  x_p1 = punto_clave1[0][0]\n",
        "  y_p1 = punto_clave1[0][1]\n",
        "  l_p1 = punto_clave1[1]\n",
        "\n",
        "  x_p2 = punto_clave2[0][0]\n",
        "  y_p2 = punto_clave2[0][1]\n",
        "  l_p2 = punto_clave2[1]\n",
        "\n",
        "\n",
        "  ##################################################################################################################\n",
        "  constanteX_ecuacion1 = -(y_p1/2 - y_p2/2)\n",
        "  constanteY_ecuacion1 = x_p1/2 - x_p2/2\n",
        "  raizDenominador = sqrt(  pow((x_p1-x_p2),2)  +  pow((y_p1-y_p2),2) )\n",
        "  denominador1 = -l_p1 + l_p2 + raizDenominador\n",
        "  denominador2 = l_p1 - l_p2 + raizDenominador\n",
        "  denominador3 = l_p1 + l_p2 - raizDenominador\n",
        "  denominador4 = l_p1 + l_p2 + raizDenominador\n",
        "  denominador = denominador1 * denominador2 * denominador3 * denominador4\n",
        "  denominador = abs(denominador)\n",
        "  denominador = sqrt(denominador)\n",
        "  constanteNumerica_ecuacion1 = (1/4) * denominador  + ((x_p1*y_p2)/2) - ((x_p2*y_p1)/2) \n",
        "  # print(\"Ecuacion 1 (Manual)\")\n",
        "  # La ecuacion 1 esta definida de la siguiente manera\n",
        "  # ecuacion1 = x*(constanteX_ecuacion1) + (y)*(constanteY_ecuacion1) - constanteNumerica_ecuacion1\n",
        "\n",
        "\n",
        "\n",
        "\n",
        "  ##################################################################################################################\n",
        "  # print(\"Ecuacion 2 (Manual)\")\n",
        "  constanteX_ecuacion2 =  2*x_p1 -2*x_p2\n",
        "  constanteY_ecuacion2 = 2*y_p1 -2*y_p2\n",
        "  constanteNumerica_ecuacion2 = pow(l_p1, 2) - pow(l_p2, 2) - pow(x_p1, 2) + pow(x_p2, 2) - pow(y_p1, 2) + pow(y_p2, 2) \n",
        "\n",
        "  # La ecuacion 2 esta definida de la siguiente manera\n",
        "  # ecuacion2 = x*(constanteX_ecuacion2) + y*(constanteY_ecuacion2)  + constanteNumerica_ecuacion2\n",
        "\n",
        "\n",
        "\n",
        "  ##################################################################################################################\n",
        "  rtaY = -(constanteX_ecuacion1*constanteNumerica_ecuacion2 + constanteX_ecuacion2*constanteNumerica_ecuacion1) / (constanteX_ecuacion1*constanteY_ecuacion2 - constanteX_ecuacion2*constanteY_ecuacion1)\n",
        "  rtaY = round(rtaY, 1)\n",
        "\n",
        "  rtaX = -(constanteNumerica_ecuacion1*constanteY_ecuacion2 + constanteNumerica_ecuacion2*constanteY_ecuacion1)/(constanteX_ecuacion2*constanteY_ecuacion1-constanteX_ecuacion1*constanteY_ecuacion2) \n",
        "  rtaX = round(rtaX, 1)\n",
        "  return rtaX, rtaY"
      ],
      "execution_count": 3,
      "outputs": []
    },
    {
      "cell_type": "code",
      "metadata": {
        "id": "NIxhGnO-cxKq",
        "colab_type": "code",
        "colab": {
          "base_uri": "https://localhost:8080/",
          "height": 119
        },
        "outputId": "fce8115b-181c-4196-891b-4af86d641d0b"
      },
      "source": [
        "puntoA = (2, 12)\n",
        "distancia_al_puntoA = 0.4\n",
        "\n",
        "puntoB = (10, 10)\n",
        "distancia_al_puntoB = 1.12\n",
        "\n",
        "puntoC = (2, 2)\n",
        "distancia_al_puntoC = 3.55\n",
        "\n",
        "punto_clave1 = puntoA, distancia_al_puntoA\n",
        "punto_clave2 = puntoB, distancia_al_puntoB\n",
        "punto_clave3 = puntoC, distancia_al_puntoC\n",
        "\n",
        "from time import time\n",
        "for i in range(3):\n",
        "  start_time = time()\n",
        "  if i == 0:\n",
        "    print( \"A y B\",   CalcularPuntos(punto_clave1, punto_clave2)  )\n",
        "\n",
        "  if i == 1:\n",
        "    print( \"A y C\",    CalcularPuntos(punto_clave1, punto_clave3)  )\n",
        "\n",
        "  if i == 2:\n",
        "    print( \"B y C\",    CalcularPuntos(punto_clave2, punto_clave3)  )\n",
        "  elapsed_time = time() - start_time\n",
        "  print(\"Elapsed time: %0.10f seconds.\" % elapsed_time)"
      ],
      "execution_count": 4,
      "outputs": [
        {
          "output_type": "stream",
          "text": [
            "A y B (5.0, 7.1)\n",
            "Elapsed time: 0.0001299381 seconds.\n",
            "A y C (-2.4, 7.6)\n",
            "Elapsed time: 0.0000829697 seconds.\n",
            "B y C (2.8, 9.9)\n",
            "Elapsed time: 0.0000615120 seconds.\n"
          ],
          "name": "stdout"
        }
      ]
    }
  ]
}