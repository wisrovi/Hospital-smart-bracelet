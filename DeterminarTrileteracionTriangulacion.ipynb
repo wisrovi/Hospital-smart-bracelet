{
  "nbformat": 4,
  "nbformat_minor": 0,
  "metadata": {
    "colab": {
      "name": "Untitled0.ipynb",
      "provenance": [],
      "collapsed_sections": [],
      "authorship_tag": "ABX9TyPSswizFPTaoNrqhU7B4QIR",
      "include_colab_link": true
    },
    "kernelspec": {
      "name": "python3",
      "display_name": "Python 3"
    }
  },
  "cells": [
    {
      "cell_type": "markdown",
      "metadata": {
        "id": "view-in-github",
        "colab_type": "text"
      },
      "source": [
        "<a href=\"https://colab.research.google.com/github/wisrovi/Hospital-smart-bracelet/blob/master/DeterminarTrileteracionTriangulacion.ipynb\" target=\"_parent\"><img src=\"https://colab.research.google.com/assets/colab-badge.svg\" alt=\"Open In Colab\"/></a>"
      ]
    },
    {
      "cell_type": "markdown",
      "metadata": {
        "id": "Tz137km5U8Lt",
        "colab_type": "text"
      },
      "source": [
        "INICIAR LIBRERIAS SYMPY"
      ]
    },
    {
      "cell_type": "code",
      "metadata": {
        "id": "4kSMHwSPRQtX",
        "colab_type": "code",
        "colab": {}
      },
      "source": [
        "from sympy import Symbol\n",
        "from sympy import solve, sqrt, simplify\n",
        "from sympy import init_printing\n",
        "\n",
        "\n",
        "init_printing()"
      ],
      "execution_count": 1,
      "outputs": []
    },
    {
      "cell_type": "code",
      "metadata": {
        "id": "O4dLNIyBQ4A_",
        "colab_type": "code",
        "colab": {}
      },
      "source": [
        "def CalcularDistanciaDosPuntos(x1,x2,y1,y2):\n",
        "  return sqrt((x1 - x2) ** 2 + (y1 - y2) ** 2)\n",
        "\n",
        "def CalcularArea(a, b, c):\n",
        "  s = (a + b + c) / 2\n",
        "  contenidoRaiz = s * (s - a) * (s - b) * (s - c)\n",
        "  contenidoRaiz = abs(contenidoRaiz)\n",
        "  area = sqrt(contenidoRaiz)\n",
        "  return area\n",
        "\n",
        "def DefinirEcuacion1(x1,x2,y1,y2, area):\n",
        "  global x\n",
        "  global y\n",
        "  return (-((x1 * y2 - x2 * y1) + y * (x2 - x1) + x * (y1 - y2)) / 2) - area\n",
        "\n",
        "def DefinirEcuacion2(x1,x2,y1,y2, a, b):\n",
        "  global x\n",
        "  global y\n",
        "  return (x * (2 * x1 - 2 * x2) + y * (2 * y1 - 2 * y2) + (x2 ** 2 - x1 ** 2 - a ** 2 + b ** 2 + y2 ** 2 - y1 ** 2))\n",
        "\n",
        "def SolucionarEcuaciones(ecua1, ecua2):\n",
        "  rta = solve((ecua1, ecua2), dict=True)[0]\n",
        "  valorx = round(rta[x], 1)\n",
        "  valory = round(rta[y], 1)\n",
        "  if valorx >= 0 and valory >= 0:\n",
        "    return valorx, valory\n",
        "  else:\n",
        "    if valorx >= -0.5 and valory >= -0.5:\n",
        "        return abs(valorx), abs(valory)\n",
        "    return None, None\n",
        "\n",
        "def hallarCoordenada(punto_clave1, punto_clave2):\n",
        "    puntoA = punto_clave1[0]\n",
        "    puntoB = punto_clave2[0]\n",
        "\n",
        "    x1, y1 = puntoA[0], puntoA[1]\n",
        "    x2, y2 = puntoB[0], puntoB[1]\n",
        "    \n",
        "    b = punto_clave1[1]\n",
        "    a = punto_clave2[1]    \n",
        "\n",
        "    # hallo la distancia entre los dos puntos conocidos    \n",
        "    c = CalcularDistanciaDosPuntos(x1,x2,y1,y2)\n",
        "\n",
        "    # hallo el area del triangulo que forman los tres vectores\n",
        "    area = CalcularArea(a,b,c)\n",
        "\n",
        "    # defino la ecuacion de la formula del area con el metodo de determinantes\n",
        "    ecua1 = DefinirEcuacion1(x1,x2,y1,y2, area)\n",
        "\n",
        "    # con las ecuaciones de distancia hallo una segunda ecuación\n",
        "    ecua2 = DefinirEcuacion2(x1,x2,y1,y2, a, b)\n",
        "\n",
        "    return ecua1, ecua2"
      ],
      "execution_count": 3,
      "outputs": []
    },
    {
      "cell_type": "markdown",
      "metadata": {
        "id": "P6FZgtmDK1CL",
        "colab_type": "text"
      },
      "source": [
        "SOLUCION EJEMPLO"
      ]
    },
    {
      "cell_type": "code",
      "metadata": {
        "id": "fGipUIXYK0G7",
        "colab_type": "code",
        "colab": {}
      },
      "source": [
        ""
      ],
      "execution_count": 5,
      "outputs": []
    },
    {
      "cell_type": "code",
      "metadata": {
        "id": "IYO-sI4S89jL",
        "colab_type": "code",
        "colab": {
          "base_uri": "https://localhost:8080/",
          "height": 119
        },
        "outputId": "d7126a6e-75d7-4937-c5a5-b6a205f74222"
      },
      "source": [
        "puntoA = (2, 12)\n",
        "distancia_al_puntoA = 0.4\n",
        "\n",
        "puntoB = (10, 10)\n",
        "distancia_al_puntoB = 1.12\n",
        "\n",
        "puntoC = (2, 2)\n",
        "distancia_al_puntoC = 3.55\n",
        "\n",
        "print(\"A y B:\")\n",
        "punto_clave1 = puntoA, distancia_al_puntoA\n",
        "punto_clave2 = puntoB, distancia_al_puntoB\n",
        "\n",
        "ecua1, ecua2 = hallarCoordenada(punto_clave1, punto_clave2)\n",
        "# hallo los puntos del vertice donde apuntan los dos vectores de los vertices fijos\n",
        "valorx, valory = SolucionarEcuaciones(ecua1, ecua2)\n",
        "print(valorx, valory)\n",
        "\n",
        "print(\"A y C:\")\n",
        "punto_clave1 = puntoA, distancia_al_puntoA\n",
        "punto_clave2 = puntoC, distancia_al_puntoC\n",
        "ecua1, ecua2 = hallarCoordenada(punto_clave1, punto_clave2)\n",
        "# hallo los puntos del vertice donde apuntan los dos vectores de los vertices fijos\n",
        "valorx, valory = SolucionarEcuaciones(ecua1, ecua2)\n",
        "print(valorx, valory)\n",
        "\n",
        "print(\"B y C:\")\n",
        "punto_clave1 = puntoB, distancia_al_puntoB\n",
        "punto_clave2 = puntoC, distancia_al_puntoC\n",
        "ecua1, ecua2 = hallarCoordenada(punto_clave1, punto_clave2)\n",
        "# hallo los puntos del vertice donde apuntan los dos vectores de los vertices fijos\n",
        "valorx, valory = SolucionarEcuaciones(ecua1, ecua2)\n",
        "print(valorx, valory)"
      ],
      "execution_count": 6,
      "outputs": [
        {
          "output_type": "stream",
          "text": [
            "A y B:\n",
            "5.0 7.1\n",
            "A y C:\n",
            "None None\n",
            "B y C:\n",
            "2.8 9.9\n"
          ],
          "name": "stdout"
        }
      ]
    },
    {
      "cell_type": "markdown",
      "metadata": {
        "id": "YHDi27-l_pDP",
        "colab_type": "text"
      },
      "source": [
        "ECUACIONES USADAS"
      ]
    },
    {
      "cell_type": "code",
      "metadata": {
        "id": "qYMSoJSoRh3v",
        "colab_type": "code",
        "colab": {}
      },
      "source": [
        "usarValoresReales = True"
      ],
      "execution_count": 34,
      "outputs": []
    },
    {
      "cell_type": "code",
      "metadata": {
        "id": "MhHEdh3687iP",
        "colab_type": "code",
        "colab": {
          "base_uri": "https://localhost:8080/",
          "height": 55
        },
        "outputId": "9cfbf2a2-ae8c-48b4-c829-3717971becd8"
      },
      "source": [
        "punto_clave1 = None\n",
        "punto_clave2 = None\n",
        "\n",
        "x = Symbol(\"x\")\n",
        "y = Symbol(\"y\")\n",
        "\n",
        "if usarValoresReales:\n",
        "  x_p1 = 2\n",
        "  y_p1 = 12\n",
        "  l_p1 = 0.4\n",
        "\n",
        "  x_p2 = 10\n",
        "  y_p2 = 10\n",
        "  l_p2 = 1.12  \n",
        "else:\n",
        "  x_p1 = Symbol(\"x1\")\n",
        "  y_p1 = Symbol(\"y1\")\n",
        "  l_p1 = Symbol(\"l1\")\n",
        "\n",
        "  x_p2 = Symbol(\"x2\")\n",
        "  y_p2 = Symbol(\"y2\")\n",
        "  l_p2 = Symbol(\"l2\")\n",
        "\n",
        "print(\"A y B:\")\n",
        "punto_clave1 = (x_p1, y_p1), l_p1\n",
        "punto_clave2 = (x_p2, y_p2), l_p2\n",
        "\n",
        "ecua1, ecua2 = hallarCoordenada(punto_clave1, punto_clave2)\n",
        "simplify(ecua1).evalf()"
      ],
      "execution_count": 58,
      "outputs": [
        {
          "output_type": "stream",
          "text": [
            "A y B:\n"
          ],
          "name": "stdout"
        },
        {
          "output_type": "execute_result",
          "data": {
            "image/png": "[encoded data removed]",
            "text/latex": "$$- x - 4.0 y + 33.3551071808798$$",
            "text/plain": [
              "-x - 4.0⋅y + 33.3551071808798"
            ]
          },
          "metadata": {
            "tags": []
          },
          "execution_count": 58
        }
      ]
    },
    {
      "cell_type": "code",
      "metadata": {
        "id": "h5exuqXFLA8C",
        "colab_type": "code",
        "colab": {
          "base_uri": "https://localhost:8080/",
          "height": 38
        },
        "outputId": "cdc24d82-db54-46d0-91ec-f0479a40757d"
      },
      "source": [
        "simplify(ecua2).evalf()"
      ],
      "execution_count": 59,
      "outputs": [
        {
          "output_type": "execute_result",
          "data": {
            "image/png": "[encoded data removed]",
            "text/latex": "$$- 16.0 x + 4.0 y + 50.9056$$",
            "text/plain": [
              "-16.0⋅x + 4.0⋅y + 50.9056"
            ]
          },
          "metadata": {
            "tags": []
          },
          "execution_count": 59
        }
      ]
    },
    {
      "cell_type": "markdown",
      "metadata": {
        "id": "MzB--4k3LPAa",
        "colab_type": "text"
      },
      "source": [
        "REPLICAR ECUACIONES"
      ]
    },
    {
      "cell_type": "code",
      "metadata": {
        "id": "esMq8uXqLVZK",
        "colab_type": "code",
        "colab": {
          "base_uri": "https://localhost:8080/",
          "height": 55
        },
        "outputId": "2b7251c8-9d3d-4991-c2c1-8fcdf3278cd4"
      },
      "source": [
        "constanteX_ecuacion1 = -(y_p1/2 - y_p2/2)\n",
        "constanteY_ecuacion1 = x_p1/2 - x_p2/2\n",
        "\n",
        "raizDenominador = sqrt(  pow((x_p1-x_p2),2)  +  pow((y_p1-y_p2),2) )\n",
        "\n",
        "denominador1 = -l_p1 + l_p2 + raizDenominador\n",
        "denominador2 = l_p1 - l_p2 + raizDenominador\n",
        "denominador3 = l_p1 + l_p2 - raizDenominador\n",
        "denominador4 = l_p1 + l_p2 + raizDenominador\n",
        "\n",
        "denominador = denominador1 * denominador2 * denominador3 * denominador4\n",
        "denominador = abs(denominador)\n",
        "denominador = sqrt(denominador)\n",
        "\n",
        "constanteNumerica_ecuacion1 = (1/4) * denominador  + ((x_p1*y_p2)/2) - ((x_p2*y_p1)/2) \n",
        "\n",
        "print(\"Ecuacion 1 (Manual)\")\n",
        "ecuacion1 = x*(constanteX_ecuacion1) + (y)*(constanteY_ecuacion1) - constanteNumerica_ecuacion1\n",
        "simplify(ecuacion1).evalf()"
      ],
      "execution_count": 61,
      "outputs": [
        {
          "output_type": "stream",
          "text": [
            "Ecuacion 1 (Manual)\n"
          ],
          "name": "stdout"
        },
        {
          "output_type": "execute_result",
          "data": {
            "image/png": "[encoded data removed]",
            "text/latex": "$$- 1.0 x - 4.0 y + 33.3551071808798$$",
            "text/plain": [
              "-1.0⋅x - 4.0⋅y + 33.3551071808798"
            ]
          },
          "metadata": {
            "tags": []
          },
          "execution_count": 61
        }
      ]
    },
    {
      "cell_type": "code",
      "metadata": {
        "id": "7FVptT6qLVhA",
        "colab_type": "code",
        "colab": {
          "base_uri": "https://localhost:8080/",
          "height": 55
        },
        "outputId": "777c4e7d-200a-441b-c771-e886c985a59e"
      },
      "source": [
        "print(\"Ecuacion 2 (Manual)\")\n",
        "constanteX_ecuacion2 =  2*x_p1 -2*x_p2\n",
        "constanteY_ecuacion2 = 2*y_p1 -2*y_p2\n",
        "constanteNumerica_ecuacion2 = pow(l_p1, 2) - pow(l_p2, 2) - pow(x_p1, 2) + pow(x_p2, 2) - pow(y_p1, 2) + pow(y_p2, 2) \n",
        "\n",
        "ecuacion2 = x*(constanteX_ecuacion2) + y*(constanteY_ecuacion2)  + constanteNumerica_ecuacion2\n",
        "simplify(ecuacion2).evalf()"
      ],
      "execution_count": 62,
      "outputs": [
        {
          "output_type": "stream",
          "text": [
            "Ecuacion 2 (Manual)\n"
          ],
          "name": "stdout"
        },
        {
          "output_type": "execute_result",
          "data": {
            "image/png": "[encoded data removed]",
            "text/latex": "$$- 16.0 x + 4.0 y + 50.9056$$",
            "text/plain": [
              "-16.0⋅x + 4.0⋅y + 50.9056"
            ]
          },
          "metadata": {
            "tags": []
          },
          "execution_count": 62
        }
      ]
    },
    {
      "cell_type": "code",
      "metadata": {
        "id": "p9PVA5QTUT7X",
        "colab_type": "code",
        "colab": {
          "base_uri": "https://localhost:8080/",
          "height": 34
        },
        "outputId": "e7f3ebb4-d619-463c-e7bb-e40e5148fca5"
      },
      "source": [
        "rta = solve((ecuacion1, ecuacion2), dict=True)[0]\n",
        "print(rta)"
      ],
      "execution_count": 53,
      "outputs": [
        {
          "output_type": "stream",
          "text": [
            "{x: 4.95651218711058, y: 7.09964874844230}\n"
          ],
          "name": "stdout"
        }
      ]
    },
    {
      "cell_type": "markdown",
      "metadata": {
        "id": "_JBgMzeH9Lae",
        "colab_type": "text"
      },
      "source": [
        "MODO MANUAL\n"
      ]
    },
    {
      "cell_type": "code",
      "metadata": {
        "id": "g37w_-Zt87ap",
        "colab_type": "code",
        "colab": {}
      },
      "source": [
        "puntoB = (10, 10)\n",
        "distancia_al_puntoB = 1.12\n",
        "\n",
        "puntoA = (2, 12)\n",
        "distancia_al_puntoA = 0.4\n",
        "\n",
        "x_p1 = puntoA[0]\n",
        "y_p1 = puntoA[1]\n",
        "l_p1 = distancia_al_puntoA\n",
        "\n",
        "x_p2 = puntoB[0]\n",
        "y_p2 = puntoB[1]\n",
        "l_p2 = distancia_al_puntoB"
      ],
      "execution_count": 10,
      "outputs": []
    },
    {
      "cell_type": "markdown",
      "metadata": {
        "id": "qPnI2kOU96m-",
        "colab_type": "text"
      },
      "source": [
        "SOLUCION SISTEMA"
      ]
    },
    {
      "cell_type": "code",
      "metadata": {
        "id": "lkT0-4S7mjMT",
        "colab_type": "code",
        "colab": {
          "base_uri": "https://localhost:8080/",
          "height": 37
        },
        "outputId": "b168d5b6-f165-4151-f463-10079fc691a5"
      },
      "source": [
        "rtaY = -(constanteX_ecuacion1*constanteNumerica_ecuacion2 + constanteX_ecuacion2*constanteNumerica_ecuacion1) / (constanteX_ecuacion1*constanteY_ecuacion2 - constanteX_ecuacion2*constanteY_ecuacion1)\n",
        "simplify(rtaY).evalf()"
      ],
      "execution_count": 65,
      "outputs": [
        {
          "output_type": "execute_result",
          "data": {
            "image/png": "[encoded data removed]",
            "text/latex": "$$7.0996487484423$$",
            "text/plain": [
              "7.09964874844230"
            ]
          },
          "metadata": {
            "tags": []
          },
          "execution_count": 65
        }
      ]
    },
    {
      "cell_type": "code",
      "metadata": {
        "id": "cjae7QO87NCC",
        "colab_type": "code",
        "colab": {
          "base_uri": "https://localhost:8080/",
          "height": 37
        },
        "outputId": "945bedac-e755-460d-8ae7-cffb294f7537"
      },
      "source": [
        "rtaX = ( -constanteNumerica_ecuacion2 - constanteY_ecuacion2*rtaY ) / constanteX_ecuacion2\n",
        "simplify(rtaX).evalf()"
      ],
      "execution_count": 67,
      "outputs": [
        {
          "output_type": "execute_result",
          "data": {
            "image/png": "[encoded data removed]",
            "text/latex": "$$4.95651218711057$$",
            "text/plain": [
              "4.95651218711057"
            ]
          },
          "metadata": {
            "tags": []
          },
          "execution_count": 67
        }
      ]
    },
    {
      "cell_type": "markdown",
      "metadata": {
        "id": "H-pMoTc3ZYYo",
        "colab_type": "text"
      },
      "source": [
        "EVALUAR ECUACIONES"
      ]
    },
    {
      "cell_type": "code",
      "metadata": {
        "id": "oUb8LXP2Z5B2",
        "colab_type": "code",
        "colab": {}
      },
      "source": [
        "from math import sqrt"
      ],
      "execution_count": 1,
      "outputs": []
    },
    {
      "cell_type": "code",
      "metadata": {
        "id": "j5UDb8GTZe3W",
        "colab_type": "code",
        "colab": {}
      },
      "source": [
        "from math import sqrt\n",
        "def CalcularPuntos(punto_clave1, punto_clave2):  \n",
        "  x_p1 = punto_clave1[0][0]\n",
        "  y_p1 = punto_clave1[0][1]\n",
        "  l_p1 = punto_clave1[1]\n",
        "\n",
        "  x_p2 = punto_clave2[0][0]\n",
        "  y_p2 = punto_clave2[0][1]\n",
        "  l_p2 = punto_clave2[1]\n",
        "\n",
        "  constanteX_ecuacion1 = -(y_p1/2 - y_p2/2)\n",
        "  constanteY_ecuacion1 = x_p1/2 - x_p2/2\n",
        "\n",
        "  raizDenominador = sqrt(  pow((x_p1-x_p2),2)  +  pow((y_p1-y_p2),2) )\n",
        "\n",
        "  denominador1 = -l_p1 + l_p2 + raizDenominador\n",
        "  denominador2 = l_p1 - l_p2 + raizDenominador\n",
        "  denominador3 = l_p1 + l_p2 - raizDenominador\n",
        "  denominador4 = l_p1 + l_p2 + raizDenominador\n",
        "\n",
        "  denominador = denominador1 * denominador2 * denominador3 * denominador4\n",
        "  denominador = abs(denominador)\n",
        "  denominador = sqrt(denominador)\n",
        "\n",
        "  constanteNumerica_ecuacion1 = (1/4) * denominador  + ((x_p1*y_p2)/2) - ((x_p2*y_p1)/2) \n",
        "  # print(\"Ecuacion 1 (Manual)\")\n",
        "  # La ecuacion 1 esta definida de la siguiente manera\n",
        "  # ecuacion1 = x*(constanteX_ecuacion1) + (y)*(constanteY_ecuacion1) - constanteNumerica_ecuacion1\n",
        "\n",
        "  print(\"Ecuacion 2 (Manual)\")\n",
        "  constanteX_ecuacion2 =  2*x_p1 -2*x_p2\n",
        "  constanteY_ecuacion2 = 2*y_p1 -2*y_p2\n",
        "  constanteNumerica_ecuacion2 = pow(l_p1, 2) - pow(l_p2, 2) - pow(x_p1, 2) + pow(x_p2, 2) - pow(y_p1, 2) + pow(y_p2, 2) \n",
        "\n",
        "  # La ecuacion 2 esta definida de la siguiente manera\n",
        "  # ecuacion2 = x*(constanteX_ecuacion2) + y*(constanteY_ecuacion2)  + constanteNumerica_ecuacion2\n",
        "\n",
        "  rtaY = -(constanteX_ecuacion1*constanteNumerica_ecuacion2 + constanteX_ecuacion2*constanteNumerica_ecuacion1) / (constanteX_ecuacion1*constanteY_ecuacion2 - constanteX_ecuacion2*constanteY_ecuacion1)\n",
        "  rtaX = ( -constanteNumerica_ecuacion2 - constanteY_ecuacion2*rtaY ) / constanteX_ecuacion2\n",
        "\n",
        "  rtaY = round(rtaY, 1)\n",
        "  rtaX = round(rtaX, 1)\n",
        "  return rtaX, rtaY"
      ],
      "execution_count": 2,
      "outputs": []
    },
    {
      "cell_type": "code",
      "metadata": {
        "id": "NecyHP3yZpku",
        "colab_type": "code",
        "colab": {
          "base_uri": "https://localhost:8080/",
          "height": 51
        },
        "outputId": "efc98950-4831-4a46-fad5-c4be60d2528d"
      },
      "source": [
        "puntoB = (10, 10)\n",
        "distancia_al_puntoB = 1.12\n",
        "\n",
        "puntoA = (2, 12)\n",
        "distancia_al_puntoA = 0.4\n",
        "\n",
        "punto_clave1 = puntoA, distancia_al_puntoA\n",
        "punto_clave2 = puntoB, distancia_al_puntoB\n",
        "print(  CalcularPuntos(punto_clave1, punto_clave2)  )"
      ],
      "execution_count": 3,
      "outputs": [
        {
          "output_type": "stream",
          "text": [
            "Ecuacion 2 (Manual)\n",
            "(5.0, 7.1)\n"
          ],
          "name": "stdout"
        }
      ]
    },
    {
      "cell_type": "code",
      "metadata": {
        "id": "NIxhGnO-cxKq",
        "colab_type": "code",
        "colab": {
          "base_uri": "https://localhost:8080/",
          "height": 68
        },
        "outputId": "e2a3690e-c8d4-4927-b33f-41b2c6902ae7"
      },
      "source": [
        "from time import time\n",
        "\n",
        "puntoB = (10, 10)\n",
        "distancia_al_puntoB = 1.12\n",
        "\n",
        "puntoA = (2, 12)\n",
        "distancia_al_puntoA = 0.4\n",
        "\n",
        "punto_clave1 = puntoA, distancia_al_puntoA\n",
        "punto_clave2 = puntoB, distancia_al_puntoB\n",
        "\n",
        "start_time = time()\n",
        "print(  CalcularPuntos(punto_clave1, punto_clave2)  )\n",
        "elapsed_time = time() - start_time\n",
        "print(\"Elapsed time: %0.10f seconds.\" % elapsed_time)\n",
        "\n"
      ],
      "execution_count": 4,
      "outputs": [
        {
          "output_type": "stream",
          "text": [
            "Ecuacion 2 (Manual)\n",
            "(5.0, 7.1)\n",
            "Elapsed time: 0.0018527508 seconds.\n"
          ],
          "name": "stdout"
        }
      ]
    }
  ]
}